{
  "nbformat": 4,
  "nbformat_minor": 0,
  "metadata": {
    "colab": {
      "name": "Topic_Models_COVID19.ipynb",
      "provenance": [],
      "collapsed_sections": []
    },
    "kernelspec": {
      "name": "python3",
      "display_name": "Python 3"
    }
  },
  "cells": [
    {
      "cell_type": "markdown",
      "metadata": {
        "id": "iNeE6Axvz95J",
        "colab_type": "text"
      },
      "source": [
        "# Topic Model apply in  COVID-19 DataSet\n",
        "\n",
        "**Developer: Ivair Puerari**\n",
        "\n",
        "\n",
        "Topic modeling is a machine learning problem, which aims to extract, given a collection of documents, the main topics that represent the subjects covered by a text collection.  [Blei,2012]\n",
        "\n",
        "*  DataSet: COVID-19 Open Research Dataset Challenge (CORD-19).\n",
        "*  Topic Model: Latent Dirichlet allocation (LDA);\n",
        "\n"
      ]
    },
    {
      "cell_type": "code",
      "metadata": {
        "id": "Ddpb98zsYXu-",
        "colab_type": "code",
        "outputId": "a0ad9b80-41fd-4474-a94f-e950a0c2afac",
        "colab": {
          "base_uri": "https://localhost:8080/",
          "height": 35
        }
      },
      "source": [
        "# Load the Drive helper and mount\n",
        "from google.colab import drive\n",
        "\n",
        "#This will prompt for authorization.\n",
        "drive.mount('/content/drive')"
      ],
      "execution_count": 0,
      "outputs": [
        {
          "output_type": "stream",
          "text": [
            "Drive already mounted at /content/drive; to attempt to forcibly remount, call drive.mount(\"/content/drive\", force_remount=True).\n"
          ],
          "name": "stdout"
        }
      ]
    },
    {
      "cell_type": "code",
      "metadata": {
        "id": "GFxvuaC0R6lC",
        "colab_type": "code",
        "outputId": "014f9cb3-4fd0-4925-8edc-9b08049cbcf3",
        "colab": {
          "base_uri": "https://localhost:8080/",
          "height": 54
        }
      },
      "source": [
        "import numpy as np\n",
        "import sys\n",
        "import nltk\n",
        "import string\n",
        "\n",
        "from nltk.corpus import stopwords\n",
        "from nltk.stem.wordnet import WordNetLemmatizer\n",
        "\n",
        "\n",
        "nltk.download('wordnet')\n",
        "lemma = WordNetLemmatizer()\n",
        "\n",
        "stemmer = nltk.stem.PorterStemmer()\n",
        "\n",
        "exclude_punctuation = set(string.punctuation)"
      ],
      "execution_count": 0,
      "outputs": [
        {
          "output_type": "stream",
          "text": [
            "[nltk_data] Downloading package wordnet to /root/nltk_data...\n",
            "[nltk_data]   Package wordnet is already up-to-date!\n"
          ],
          "name": "stdout"
        }
      ]
    },
    {
      "cell_type": "markdown",
      "metadata": {
        "id": "4l5ATwd0ImGj",
        "colab_type": "text"
      },
      "source": [
        "\n",
        "### Pre-Processing\n",
        "\n",
        "In LDA, we can be represent Documents as bag-of-words.\n",
        "\n",
        "To this, we have pre-processing documents removing pontuacions, numbers and plurals.\n"
      ]
    },
    {
      "cell_type": "code",
      "metadata": {
        "id": "WnPtN8PMSIOG",
        "colab_type": "code",
        "colab": {}
      },
      "source": [
        "def clean(doc):\n",
        "    removed_punctuation = ''.join( ch for w in doc for ch in w if ch not in exclude_punctuation)\n",
        "\n",
        "    removed_digits = \" \".join(([(''.join([ch for ch in w if not ch.isdigit()])) for w in removed_punctuation.split() if not w.isdigit() ]))\n",
        "    \n",
        "    remove_words = \" \".join([w for w in removed_digits.split() if len(w) > 3 ])\n",
        "\n",
        "    remove_stops = \" \".join([w for w in remove_words.lower().split() if w not in stop])\n",
        "    \n",
        "    normalized = \" \".join(lemma.lemmatize(word) for word in remove_stops.split())\n",
        "    \n",
        "    stemed = \" \".join(stemmer.stem(word) for word in normalized.split()) \n",
        "\n",
        "    result = \" \".join([w for w in stemed.lower().split() if w not in stop])\n",
        "\n",
        "    return result"
      ],
      "execution_count": 0,
      "outputs": []
    },
    {
      "cell_type": "markdown",
      "metadata": {
        "id": "XAT54xAlPxWX",
        "colab_type": "text"
      },
      "source": [
        "**StopWords**: are a set of commonly used words in any language or in the subject."
      ]
    },
    {
      "cell_type": "code",
      "metadata": {
        "id": "ptYBwNkPQxRT",
        "colab_type": "code",
        "colab": {}
      },
      "source": [
        "FileWithStopWords = '/content/drive/My Drive/Colab Notebooks/StopWords.txt'"
      ],
      "execution_count": 0,
      "outputs": []
    },
    {
      "cell_type": "code",
      "metadata": {
        "id": "LDNlDblhSKql",
        "colab_type": "code",
        "colab": {}
      },
      "source": [
        "nltk.download('stopwords')\n",
        "stop = set(stopwords.words('english'))\n",
        "\n",
        "with open(FileWithStopWords,'r',  encoding='UTF-8') as fr:\n",
        "  for line in fr:\n",
        "    stop.add(line.replace('\\n', ''))\n",
        "stop"
      ],
      "execution_count": 0,
      "outputs": []
    },
    {
      "cell_type": "code",
      "metadata": {
        "id": "UBT_rtT-SbkW",
        "colab_type": "code",
        "colab": {}
      },
      "source": [
        "fileToRead =  '/content/drive/My Drive/Colab Notebooks/covid_clean_zzz_1.txt'\n",
        "fileToWrite = '/content/drive/My Drive/Colab Notebooks/covid_clean_zzz_2.txt'"
      ],
      "execution_count": 0,
      "outputs": []
    },
    {
      "cell_type": "code",
      "metadata": {
        "id": "p5siAAZ1a5h2",
        "colab_type": "code",
        "colab": {}
      },
      "source": [
        "with open(fileToWrite,'w', encoding=\"utf-8\") as fw:\n",
        "    with open(fileToRead,'r',  encoding=\"utf-8\") as fr:\n",
        "      [fw.write(clean(line) +'\\n') for line in fr]\n",
        "    \n",
        "    fr.close()\n",
        "fw.close()"
      ],
      "execution_count": 0,
      "outputs": []
    },
    {
      "cell_type": "code",
      "metadata": {
        "id": "chAGwRgEiH7E",
        "colab_type": "code",
        "colab": {}
      },
      "source": [
        "fileFinal =  '/content/drive/My Drive/Colab Notebooks/covid_clean_zzz_2.txt'"
      ],
      "execution_count": 0,
      "outputs": []
    },
    {
      "cell_type": "code",
      "metadata": {
        "id": "0q3LpEbRV5j4",
        "colab_type": "code",
        "colab": {}
      },
      "source": [
        "words = []\n",
        "\n",
        "with open(fileFinal, 'r', encoding='UTF-8') as fr:\n",
        "     [words.append(line.replace('\\n', '').split()) for line in fr]   \n",
        "fr.close()   "
      ],
      "execution_count": 0,
      "outputs": []
    },
    {
      "cell_type": "code",
      "metadata": {
        "id": "UQc_w-qCcwtV",
        "colab_type": "code",
        "colab": {}
      },
      "source": [
        "words[0]"
      ],
      "execution_count": 0,
      "outputs": []
    },
    {
      "cell_type": "markdown",
      "metadata": {
        "id": "S8U_QIjOSr90",
        "colab_type": "text"
      },
      "source": [
        "### Build the Topic Model\n",
        "\n",
        "For build the model was use library Gensim Models"
      ]
    },
    {
      "cell_type": "code",
      "metadata": {
        "id": "Ay2kWeJmW7S3",
        "colab_type": "code",
        "colab": {}
      },
      "source": [
        "import gensim\n",
        "\n",
        "from gensim import corpora\n",
        "\n",
        "from gensim.models import CoherenceModel\n",
        "\n",
        "import logging\n",
        "logging.basicConfig(format='%(asctime)s : %(levelname)s : %(message)s', level=logging.ERROR)\n",
        "\n",
        "import warnings\n",
        "warnings.filterwarnings(\"ignore\",category=DeprecationWarning)\n",
        "\n",
        "! pip install pyLDAvis\n",
        "import pyLDAvis.gensim"
      ],
      "execution_count": 0,
      "outputs": []
    },
    {
      "cell_type": "markdown",
      "metadata": {
        "id": "aYpR49ctT3N0",
        "colab_type": "text"
      },
      "source": [
        "*   **Create Dictionary**"
      ]
    },
    {
      "cell_type": "code",
      "metadata": {
        "id": "e_-HL_sXWbOH",
        "colab_type": "code",
        "colab": {}
      },
      "source": [
        "noBelow = round((len(words) * 0.20))\n",
        "\n",
        "dictionaryDocs = corpora.Dictionary(words)\n",
        "dictionaryDocs.filter_extremes(no_below=noBelow, no_above=0.8, keep_n=10000)"
      ],
      "execution_count": 0,
      "outputs": []
    },
    {
      "cell_type": "markdown",
      "metadata": {
        "id": "3ReasIgOUwbr",
        "colab_type": "text"
      },
      "source": [
        "*   **Create Corpus: Term Document Frequency**"
      ]
    },
    {
      "cell_type": "code",
      "metadata": {
        "id": "oQkvS287WgHX",
        "colab_type": "code",
        "colab": {}
      },
      "source": [
        "doc_term_matrix = [dictionaryDocs.doc2bow(w) for w in words]\n",
        "\n",
        "SOME_FIXED_SEED = 100\n",
        "\n",
        "np.random.seed(SOME_FIXED_SEED)"
      ],
      "execution_count": 0,
      "outputs": []
    },
    {
      "cell_type": "markdown",
      "metadata": {
        "id": "mO59mvueVmQ7",
        "colab_type": "text"
      },
      "source": [
        "* **Model**"
      ]
    },
    {
      "cell_type": "code",
      "metadata": {
        "id": "HQcyWZIp45zV",
        "colab_type": "code",
        "colab": {}
      },
      "source": [
        "ldamodel = gensim.models.LdaMulticore(corpus=doc_term_matrix,\n",
        "                                        id2word=dictionaryDocs,\n",
        "                                        num_topics=8, \n",
        "                                        random_state=SOME_FIXED_SEED,\n",
        "                                        iterations = 500,\n",
        "                                        alpha = 0.01,\n",
        "                                        passes=50)"
      ],
      "execution_count": 0,
      "outputs": []
    },
    {
      "cell_type": "code",
      "metadata": {
        "id": "O0VJ1VUwK2R9",
        "colab_type": "code",
        "colab": {}
      },
      "source": [
        "import pickle\n",
        "with open('/content/drive/My Drive/Colab Notebooks/model_covid_8', 'wb') as handle:\n",
        "    pickle.dump(ldamodel, handle)"
      ],
      "execution_count": 0,
      "outputs": []
    },
    {
      "cell_type": "markdown",
      "metadata": {
        "id": "eQQ-3uVeX_6U",
        "colab_type": "text"
      },
      "source": [
        "* **Analisys on Topics**\n",
        "\n",
        "\n",
        "* Were Extract 8 tópics from texts about COVID-19.\n",
        "* Each tópico has format with [(percent of word in topic) * word].\n",
        "* The words were order by percent desc."
      ]
    },
    {
      "cell_type": "code",
      "metadata": {
        "id": "ia6EleuHWkan",
        "colab_type": "code",
        "outputId": "ca575ed4-ecc3-4bf2-ebfd-e065fdc1973c",
        "colab": {
          "base_uri": "https://localhost:8080/",
          "height": 619
        }
      },
      "source": [
        "for idx, topic in ldamodel.print_topics(-1):\n",
        "  print(\"Topic: {} \\nWords: {}\".format(str(idx), [topic]))\n",
        "  print(\"\\n\")"
      ],
      "execution_count": 0,
      "outputs": [
        {
          "output_type": "stream",
          "text": [
            "Topic: 0 \n",
            "Words: ['0.126*\"cell\" + 0.047*\"protein\" + 0.038*\"express\" + 0.030*\"viru\" + 0.026*\"viral\" + 0.016*\"inhibit\" + 0.015*\"bind\" + 0.013*\"receptor\" + 0.013*\"interact\" + 0.013*\"induc\"']\n",
            "\n",
            "\n",
            "Topic: 1 \n",
            "Words: ['0.112*\"vaccin\" + 0.070*\"antibodi\" + 0.070*\"immun\" + 0.043*\"antigen\" + 0.034*\"viru\" + 0.027*\"protect\" + 0.025*\"strain\" + 0.025*\"serum\" + 0.022*\"neutral\" + 0.020*\"cell\"']\n",
            "\n",
            "\n",
            "Topic: 2 \n",
            "Words: ['0.036*\"detect\" + 0.035*\"assay\" + 0.024*\"concentr\" + 0.020*\"incub\" + 0.015*\"determin\" + 0.013*\"measur\" + 0.011*\"wash\" + 0.011*\"acid\" + 0.011*\"cell\" + 0.010*\"temperatur\"']\n",
            "\n",
            "\n",
            "Topic: 3 \n",
            "Words: ['0.095*\"viru\" + 0.043*\"influenza\" + 0.039*\"respiratori\" + 0.032*\"viral\" + 0.027*\"detect\" + 0.026*\"pathogen\" + 0.022*\"child\" + 0.022*\"human\" + 0.018*\"transmiss\" + 0.016*\"symptom\"']\n",
            "\n",
            "\n",
            "Topic: 4 \n",
            "Words: ['0.043*\"model\" + 0.018*\"rate\" + 0.016*\"popul\" + 0.015*\"individu\" + 0.011*\"measur\" + 0.010*\"epidem\" + 0.010*\"predict\" + 0.009*\"transmiss\" + 0.009*\"period\" + 0.008*\"higher\"']\n",
            "\n",
            "\n",
            "Topic: 5 \n",
            "Words: ['0.058*\"sequenc\" + 0.040*\"gene\" + 0.039*\"protein\" + 0.032*\"viru\" + 0.032*\"genom\" + 0.022*\"structur\" + 0.018*\"strain\" + 0.015*\"mutat\" + 0.014*\"viral\" + 0.013*\"acid\"']\n",
            "\n",
            "\n",
            "Topic: 6 \n",
            "Words: ['0.038*\"health\" + 0.018*\"public\" + 0.014*\"countri\" + 0.014*\"risk\" + 0.013*\"care\" + 0.012*\"provid\" + 0.012*\"emerg\" + 0.011*\"hospit\" + 0.011*\"commun\" + 0.009*\"outbreak\"']\n",
            "\n",
            "\n",
            "Topic: 7 \n",
            "Words: ['0.019*\"blood\" + 0.017*\"lung\" + 0.014*\"tissu\" + 0.012*\"therapi\" + 0.011*\"organ\" + 0.011*\"acut\" + 0.010*\"sign\" + 0.010*\"chronic\" + 0.009*\"diagnosi\" + 0.009*\"bacteri\"']\n",
            "\n",
            "\n"
          ],
          "name": "stdout"
        }
      ]
    },
    {
      "cell_type": "markdown",
      "metadata": {
        "id": "-Y-HxvyAfdRY",
        "colab_type": "text"
      },
      "source": [
        "\n",
        "* The LDAvis System: web-based visualization system,\n",
        "LDAvis, has two core functionalities that enable\n",
        "users to understand the topic-term relationships in\n",
        "a fitted LDA model, and a number of extra features\n",
        "that provide additional perspectives on the model. [Sievert C and Shirley, 2014]\n"
      ]
    },
    {
      "cell_type": "code",
      "metadata": {
        "id": "7ewZjyXMWp0n",
        "colab_type": "code",
        "outputId": "97766bc8-f833-4a12-bf06-aedf00ff7815",
        "colab": {
          "base_uri": "https://localhost:8080/",
          "height": 881
        }
      },
      "source": [
        "from matplotlib import pyplot as plt\n",
        "\n",
        "pyLDAvis.enable_notebook()\n",
        "vis = pyLDAvis.gensim.prepare(ldamodel, doc_term_matrix, dictionaryDocs)\n",
        "\n",
        "pyLDAvis.save_html(vis,'/content/drive/My Drive/Colab Notebooks/vis.html')\n",
        "vis"
      ],
      "execution_count": 0,
      "outputs": [
        {
          "output_type": "execute_result",
          "data": {
            "text/html": [
              "\n",
              "<link rel=\"stylesheet\" type=\"text/css\" href=\"https://cdn.rawgit.com/bmabey/pyLDAvis/files/ldavis.v1.0.0.css\">\n",
              "\n",
              "\n",
              "<div id=\"ldavis_el1231398958532915841320414479\"></div>\n",
              "<script type=\"text/javascript\">\n",
              "\n",
              "var ldavis_el1231398958532915841320414479_data = {\"mdsDat\": {\"x\": [0.17859383025000883, -0.08488215274767057, -0.14789969096572367, 0.08350536538938097, -0.12282246540725014, -0.00037352138403643056, -0.08867174115919813, 0.18255037602448929], \"y\": [-0.02777219048200119, 0.037888426627816364, 0.0021985350200688153, -0.09902818846234734, -0.07490248741700924, -0.15051207328202876, 0.18237622768984668, 0.12975175030565478], \"topics\": [1, 2, 3, 4, 5, 6, 7, 8], \"cluster\": [1, 1, 1, 1, 1, 1, 1, 1], \"Freq\": [18.708354949951172, 14.81641674041748, 14.6774320602417, 12.925103187561035, 11.471051216125488, 10.88144588470459, 10.526763916015625, 5.993429660797119]}, \"tinfo\": {\"Term\": [\"cell\", \"viru\", \"vaccin\", \"sequenc\", \"immun\", \"antibodi\", \"protein\", \"gene\", \"health\", \"model\", \"influenza\", \"viral\", \"detect\", \"express\", \"respiratori\", \"genom\", \"antigen\", \"assay\", \"strain\", \"serum\", \"protect\", \"concentr\", \"child\", \"pathogen\", \"induc\", \"hospit\", \"public\", \"blood\", \"structur\", \"transmiss\", \"receptor\", \"inhibit\", \"cell\", \"cellular\", \"express\", \"inhibitor\", \"modul\", \"entri\", \"antivir\", \"induct\", \"signal\", \"vivo\", \"molecul\", \"trigger\", \"promot\", \"bind\", \"induc\", \"stimul\", \"block\", \"interact\", \"vitro\", \"relea\", \"interestingli\", \"interf\", \"role\", \"envelop\", \"accumul\", \"manner\", \"protein\", \"play\", \"transcript\", \"viral\", \"enhanc\", \"complex\", \"target\", \"viru\", \"host\", \"human\", \"gene\", \"immun\", \"process\", \"lead\", \"antibodi\", \"therapi\", \"chronic\", \"fluid\", \"blood\", \"sign\", \"lung\", \"failur\", \"rare\", \"patholog\", \"bodi\", \"diagnosi\", \"complic\", \"inflammatori\", \"bacteria\", \"damag\", \"bacteri\", \"healthi\", \"commonli\", \"hepat\", \"tissu\", \"mild\", \"seen\", \"administr\", \"resist\", \"loss\", \"acut\", \"pressur\", \"young\", \"surviv\", \"progress\", \"organ\", \"adult\", \"affect\", \"drug\", \"treat\", \"agent\", \"mortal\", \"evid\", \"condit\", \"find\", \"larg\", \"cell\", \"mani\", \"respiratori\", \"health\", \"public\", \"nation\", \"resourc\", \"commun\", \"countri\", \"issu\", \"peopl\", \"practic\", \"manag\", \"implement\", \"facil\", \"articl\", \"care\", \"world\", \"person\", \"respond\", \"cost\", \"medicin\", \"effort\", \"emerg\", \"surveil\", \"oper\", \"program\", \"concern\", \"knowledg\", \"ensur\", \"million\", \"address\", \"institut\", \"risk\", \"work\", \"intern\", \"hospit\", \"provid\", \"prevent\", \"outbreak\", \"environ\", \"state\", \"improv\", \"mani\", \"infecti\", \"would\", \"organ\", \"potenti\", \"human\", \"identifi\", \"nucleotid\", \"sequenc\", \"genom\", \"mutat\", \"amino\", \"ident\", \"gene\", \"polymera\", \"structur\", \"genet\", \"fragment\", \"databa\", \"encod\", \"recombin\", \"pair\", \"clone\", \"translat\", \"length\", \"termin\", \"belong\", \"construct\", \"strain\", \"acid\", \"cluster\", \"uniqu\", \"amplifi\", \"primer\", \"transcript\", \"predict\", \"share\", \"famili\", \"protein\", \"identifi\", \"host\", \"viru\", \"viral\", \"isol\", \"bind\", \"human\", \"molecular\", \"interact\", \"assum\", \"dynam\", \"model\", \"scale\", \"epidem\", \"statist\", \"random\", \"interv\", \"maximum\", \"predict\", \"individu\", \"densiti\", \"popul\", \"relationship\", \"rate\", \"proport\", \"larger\", \"variat\", \"hypothesi\", \"paper\", \"peak\", \"correl\", \"cluster\", \"smaller\", \"across\", \"influenc\", \"account\", \"frequenc\", \"pattern\", \"period\", \"given\", \"measur\", \"point\", \"transmiss\", \"ratio\", \"higher\", \"term\", \"would\", \"impact\", \"repr\", \"approach\", \"display\", \"process\", \"outbreak\", \"rang\", \"therefor\", \"larg\", \"find\", \"provid\", \"infecti\", \"centrifug\", \"fluoresc\", \"wash\", \"mixtur\", \"assay\", \"supernat\", \"incub\", \"concentr\", \"solut\", \"label\", \"instruct\", \"manufactur\", \"room\", \"temperatur\", \"purifi\", \"store\", \"quantit\", \"quantifi\", \"briefli\", \"softwar\", \"supplement\", \"primer\", \"yield\", \"protocol\", \"prepar\", \"volum\", \"chemic\", \"stain\", \"flow\", \"detect\", \"remov\", \"standard\", \"determin\", \"measur\", \"accord\", \"acid\", \"amount\", \"serum\", \"evalu\", \"target\", \"hour\", \"cell\", \"higher\", \"condit\", \"antibodi\", \"isol\", \"significantli\", \"without\", \"influenza\", \"child\", \"respiratori\", \"symptom\", \"pneumonia\", \"fever\", \"pathogen\", \"transmit\", \"transmiss\", \"epidemiolog\", \"tract\", \"onset\", \"hospit\", \"viru\", \"adult\", \"outbreak\", \"upper\", \"circul\", \"worldwid\", \"suspect\", \"isol\", \"spread\", \"detect\", \"middl\", \"surveil\", \"mild\", \"diagnost\", \"laboratori\", \"young\", \"frequent\", \"viral\", \"human\", \"acut\", \"mortal\", \"rate\", \"period\", \"host\", \"agent\", \"identifi\", \"popul\", \"infecti\", \"risk\", \"strain\", \"vaccin\", \"neutral\", \"antigen\", \"antibodi\", \"immun\", \"inocul\", \"protect\", \"challeng\", \"serum\", \"vector\", \"efficaci\", \"recombin\", \"rout\", \"live\", \"strain\", \"bovin\", \"induc\", \"administr\", \"commerci\", \"advantag\", \"recogn\", \"approv\", \"manufactur\", \"strong\", \"circul\", \"receiv\", \"stimul\", \"alon\", \"adapt\", \"enhanc\", \"success\", \"human\", \"viru\", \"pathogen\", \"strategi\", \"cell\", \"express\", \"protein\", \"infecti\", \"higher\", \"isol\", \"evalu\", \"tissu\", \"viral\", \"provid\", \"model\", \"influenza\"], \"Freq\": [693898.0, 560786.0, 185379.0, 198888.0, 161653.0, 154596.0, 380559.0, 191107.0, 152800.0, 159605.0, 130515.0, 267621.0, 203336.0, 216215.0, 136559.0, 110433.0, 81061.0, 111017.0, 132398.0, 82701.0, 76288.0, 88981.0, 69946.0, 118282.0, 89641.0, 86506.0, 70659.0, 87210.0, 113180.0, 85362.0, 62538.9140625, 75941.453125, 606364.375, 44473.4765625, 183476.828125, 37074.53515625, 16285.267578125, 26944.248046875, 46796.83203125, 20173.380859375, 57584.1640625, 23930.814453125, 30975.1640625, 11672.5517578125, 31332.337890625, 71493.578125, 60671.7265625, 22656.56640625, 20494.015625, 62010.8515625, 25231.794921875, 22253.115234375, 11577.900390625, 9278.033203125, 54333.88671875, 12464.91015625, 13035.2587890625, 8469.205078125, 223395.515625, 21586.201171875, 30651.853515625, 125707.453125, 25562.041015625, 35853.26953125, 48446.8828125, 144249.671875, 44019.5859375, 58470.265625, 50794.40625, 39518.375, 31132.4609375, 23744.125, 24381.1875, 46168.98828125, 36901.2578125, 27144.181640625, 73297.8359375, 38773.85546875, 64768.484375, 17722.41796875, 16326.4716796875, 15819.259765625, 24961.8671875, 35200.91015625, 14398.2724609375, 23339.599609375, 27309.765625, 17066.78515625, 34403.82421875, 16223.9697265625, 14725.23828125, 20856.962890625, 52113.08203125, 12579.44921875, 20511.962890625, 19144.271484375, 30446.521484375, 21305.24609375, 40589.359375, 11903.814453125, 9964.2724609375, 18487.67578125, 18412.37109375, 40816.265625, 19455.40234375, 31581.47265625, 29801.19140625, 25988.93359375, 25131.759765625, 21499.2109375, 21341.35546875, 22338.818359375, 22007.689453125, 21076.412109375, 26507.5859375, 20577.470703125, 20445.318359375, 144275.796875, 65861.2578125, 31092.3359375, 18613.1171875, 39715.09765625, 53266.078125, 17987.962890625, 25963.18359375, 25539.72265625, 31218.662109375, 19969.01953125, 14027.9150390625, 12506.826171875, 48411.4921875, 19909.37109375, 19423.19140625, 15827.0107421875, 17290.251953125, 15321.6259765625, 13299.634765625, 45389.0859375, 24990.125, 12525.150390625, 20165.64453125, 17025.33984375, 16433.142578125, 10153.587890625, 11089.8916015625, 11897.81640625, 15437.412109375, 51220.57421875, 27856.25390625, 29544.158203125, 41719.71484375, 45745.88671875, 32917.8203125, 33965.7265625, 22745.978515625, 23787.0078125, 23890.080078125, 26172.0546875, 23696.037109375, 21994.4609375, 22695.314453125, 22731.572265625, 22640.23828125, 20995.837890625, 32234.345703125, 192942.421875, 105224.84375, 49062.75390625, 36681.4765625, 19762.904296875, 133774.1875, 15137.140625, 71869.9140625, 30186.857421875, 16309.00390625, 14687.634765625, 19102.4609375, 30283.505859375, 12324.3173828125, 17546.23046875, 16838.822265625, 14650.2138671875, 8066.65771484375, 7218.87353515625, 16250.6728515625, 60196.19921875, 44146.296875, 15664.0654296875, 8856.0888671875, 7478.728515625, 19062.126953125, 23521.869140625, 24313.349609375, 9666.3359375, 18883.080078125, 128089.5703125, 42698.1484375, 34676.49609375, 106376.234375, 46433.6484375, 25898.162109375, 24644.73828125, 30120.35546875, 17561.453125, 18652.111328125, 15689.96484375, 18764.287109375, 126828.0078125, 10795.7783203125, 29015.45703125, 20698.33984375, 9463.7197265625, 23373.171875, 7587.5966796875, 28856.828125, 42739.046875, 9448.5146484375, 47355.8125, 11983.1572265625, 53657.3984375, 12860.755859375, 7811.0859375, 11234.6669921875, 6273.65673828125, 7036.77734375, 11603.1982421875, 18998.720703125, 14837.794921875, 4685.19287109375, 11662.3486328125, 12421.0458984375, 9814.134765625, 11277.830078125, 16574.607421875, 25125.9921875, 19403.216796875, 33307.4921875, 17045.4765625, 27768.931640625, 12313.53515625, 23508.1640625, 12904.705078125, 18333.70703125, 13838.7578125, 17894.51171875, 16900.646484375, 12420.0927734375, 16785.392578125, 16171.8388671875, 14532.59375, 14635.8154296875, 14709.6484375, 14239.2802734375, 15058.841796875, 14367.7373046875, 15655.671875, 24525.8671875, 31083.66015625, 13807.890625, 96957.3046875, 18700.046875, 54815.55859375, 66377.796875, 23494.20703125, 14084.359375, 8412.9873046875, 15480.4150390625, 16483.380859375, 27577.95703125, 17153.33203125, 9102.9765625, 11830.8779296875, 9082.2880859375, 7115.26806640625, 12883.1630859375, 13132.619140625, 24700.87109375, 11959.634765625, 14710.380859375, 25282.828125, 14609.8984375, 10078.0712890625, 19380.970703125, 12357.1435546875, 99785.3125, 18442.130859375, 23980.892578125, 43103.83203125, 34934.76953125, 20817.376953125, 30458.626953125, 15366.859375, 25220.095703125, 22690.1015625, 26232.615234375, 16239.73828125, 29962.859375, 18296.5390625, 17471.662109375, 19125.560546875, 18027.43359375, 16514.875, 16289.2177734375, 115059.8515625, 60263.84375, 105537.25, 43827.58203125, 43212.66015625, 26095.404296875, 70728.546875, 9621.7470703125, 48166.6328125, 16241.1982421875, 17501.974609375, 11619.205078125, 39810.6640625, 255997.953125, 16982.83203125, 36128.234375, 6892.11328125, 9111.5380859375, 5797.7255859375, 6387.68115234375, 40833.140625, 17391.5234375, 74156.953125, 4997.962890625, 13390.03515625, 7455.52294921875, 13303.0751953125, 18483.158203125, 5988.6826171875, 11155.689453125, 85936.171875, 59399.9609375, 21612.953125, 14389.38671875, 26730.421875, 16751.587890625, 22849.26953125, 15705.44140625, 24231.15625, 19513.71484375, 18103.86328125, 17144.646484375, 18131.927734375, 172619.34375, 33818.88671875, 65945.2421875, 107871.96875, 107785.1875, 17918.654296875, 41573.15625, 27525.94921875, 38375.37109375, 20636.109375, 11328.197265625, 18006.099609375, 6137.41943359375, 8250.0439453125, 38642.51171875, 5209.55224609375, 19716.068359375, 6495.00439453125, 3202.079345703125, 2564.82421875, 4497.625, 2933.708740234375, 3473.699951171875, 3296.906005859375, 3333.017578125, 5204.97412109375, 4694.62646484375, 2766.8671875, 3865.602294921875, 6289.888671875, 4616.3720703125, 22788.939453125, 51472.0078125, 10267.0888671875, 5293.4833984375, 30142.568359375, 13321.501953125, 17050.318359375, 7069.28564453125, 7025.33642578125, 7949.9677734375, 6375.68408203125, 6698.48974609375, 9093.939453125, 7189.87451171875, 7250.45068359375, 6598.77392578125], \"Total\": [693898.0, 560786.0, 185379.0, 198888.0, 161653.0, 154596.0, 380559.0, 191107.0, 152800.0, 159605.0, 130515.0, 267621.0, 203336.0, 216215.0, 136559.0, 110433.0, 81061.0, 111017.0, 132398.0, 82701.0, 76288.0, 88981.0, 69946.0, 118282.0, 89641.0, 86506.0, 70659.0, 87210.0, 113180.0, 85362.0, 67877.71875, 85498.03125, 693898.75, 51466.54296875, 216215.46875, 44802.62109375, 20162.875, 33463.5, 58157.06640625, 25391.39453125, 73845.7421875, 30724.31640625, 42271.52734375, 16382.927734375, 44086.78125, 105361.7421875, 89641.53125, 33496.546875, 30515.951171875, 95091.7578125, 39791.0546875, 36327.87890625, 18914.71875, 15189.345703125, 90052.859375, 20864.708984375, 21887.34375, 14304.759765625, 380559.25, 37774.7265625, 55153.91015625, 267621.4375, 46402.9453125, 70339.640625, 104318.0703125, 560786.0625, 112502.171875, 212383.5, 191107.953125, 161653.9375, 94895.90625, 66340.6484375, 154596.890625, 53712.07421875, 43773.3515625, 32295.2109375, 87210.109375, 47626.45703125, 80430.4609375, 23628.607421875, 22667.4140625, 22266.76953125, 37272.02734375, 52731.12890625, 21779.025390625, 36247.6953125, 42504.6484375, 26779.81640625, 55823.578125, 26756.931640625, 24325.564453125, 34471.30078125, 88538.96875, 21660.5078125, 35339.3359375, 33125.8046875, 53902.23828125, 38243.5234375, 73497.765625, 21856.08984375, 18523.36328125, 34437.875, 34561.57421875, 80728.3125, 39504.94921875, 74056.96875, 69332.328125, 61742.56640625, 61120.4765625, 46914.38671875, 59828.41015625, 71053.6328125, 70784.125, 72308.546875, 693898.75, 86544.03125, 136559.34375, 152800.453125, 70659.2265625, 36260.484375, 21713.412109375, 47156.44140625, 66268.390625, 22916.580078125, 34174.73046875, 33886.00390625, 41539.19140625, 26688.884765625, 18988.1015625, 17411.8203125, 68140.4765625, 29226.8046875, 28702.23046875, 23425.42578125, 25607.810546875, 23259.890625, 20298.826171875, 69716.3359375, 38548.99609375, 19965.626953125, 32307.90625, 27316.76171875, 26996.291015625, 16686.056640625, 18394.390625, 19752.65625, 27184.818359375, 97936.5390625, 51916.90234375, 56717.43359375, 86506.7265625, 117732.84375, 76082.4921875, 87120.046875, 50508.5234375, 58343.55078125, 61631.8046875, 86544.03125, 82699.3515625, 67297.8046875, 80728.3125, 101773.3203125, 212383.5, 136191.875, 32688.365234375, 198888.34375, 110433.0078125, 55828.33203125, 42761.26171875, 25710.3828125, 191107.953125, 23427.34765625, 113180.28125, 47837.7421875, 26726.71484375, 24381.31640625, 31728.892578125, 51540.2890625, 21428.896484375, 31733.802734375, 31140.59375, 27311.669921875, 15248.181640625, 13792.8876953125, 31190.421875, 132398.796875, 97551.2109375, 34721.39453125, 20276.87890625, 17280.912109375, 44475.8046875, 55153.91015625, 57479.890625, 23891.037109375, 48376.06640625, 380559.25, 136191.875, 112502.171875, 560786.0625, 267621.4375, 108204.234375, 105361.7421875, 212383.5, 46500.859375, 95091.7578125, 19066.01953125, 22816.306640625, 159605.3125, 17917.5546875, 51747.16015625, 38800.890625, 18089.998046875, 45403.44921875, 14978.8359375, 57479.890625, 86059.7421875, 19311.884765625, 96927.171875, 24735.388671875, 111101.9140625, 26648.662109375, 16941.982421875, 24712.62109375, 14140.857421875, 16206.052734375, 26866.095703125, 44336.875, 34721.39453125, 11020.009765625, 27714.685546875, 29557.0078125, 23673.1875, 27702.3046875, 40977.640625, 63166.80078125, 49408.875, 97741.0703125, 45115.70703125, 85362.2890625, 31416.89453125, 81877.8828125, 35014.6640625, 67297.8046875, 39921.21484375, 65594.015625, 63430.7109375, 32888.76171875, 94895.90625, 87120.046875, 67077.65625, 69893.90625, 72308.546875, 70784.125, 117732.84375, 82699.3515625, 16297.0927734375, 27266.640625, 34750.92578125, 15689.1337890625, 111017.5234375, 21872.349609375, 64611.9921875, 88981.890625, 32230.5, 20520.046875, 12394.720703125, 22809.341796875, 24468.791015625, 41959.65234375, 27084.0, 14600.69921875, 19080.09765625, 14780.376953125, 11714.921875, 21455.02734375, 22187.806640625, 44475.8046875, 21610.552734375, 27426.513671875, 47775.91796875, 27684.078125, 19517.083984375, 37576.7421875, 24471.580078125, 203336.84375, 38440.03515625, 52136.98828125, 111457.21875, 97741.0703125, 51383.01171875, 97551.2109375, 33425.36328125, 82701.15625, 73829.3125, 104318.0703125, 40897.8671875, 693898.75, 81877.8828125, 71053.6328125, 154596.890625, 108204.234375, 68568.234375, 68032.984375, 130515.5390625, 69946.9609375, 136559.34375, 60345.9765625, 61090.45703125, 38339.82421875, 118282.2890625, 16102.1259765625, 85362.2890625, 29551.115234375, 35536.8984375, 24612.03515625, 86506.7265625, 560786.0625, 39504.94921875, 87120.046875, 16921.48046875, 22845.716796875, 14638.4609375, 16441.78125, 108204.234375, 46457.70703125, 203336.84375, 13782.392578125, 38548.99609375, 21660.5078125, 40040.07421875, 56871.2265625, 18523.36328125, 34598.88671875, 267621.4375, 212383.5, 73497.765625, 46914.38671875, 111101.9140625, 63166.80078125, 112502.171875, 61120.4765625, 136191.875, 96927.171875, 82699.3515625, 97936.5390625, 132398.796875, 185379.796875, 39962.70703125, 81061.8125, 154596.890625, 161653.9375, 29515.171875, 76288.890625, 50835.703125, 82701.15625, 46078.59375, 27156.46484375, 51540.2890625, 18561.4375, 25348.7109375, 132398.796875, 19613.03125, 89641.53125, 33125.8046875, 17434.51953125, 15798.5517578125, 28468.392578125, 19078.62890625, 22809.341796875, 21868.044921875, 22845.716796875, 37085.04296875, 33496.546875, 19775.646484375, 28315.904296875, 46402.9453125, 34461.15625, 212383.5, 560786.0625, 118282.2890625, 44796.84765625, 693898.75, 216215.46875, 380559.25, 82699.3515625, 81877.8828125, 108204.234375, 73829.3125, 88538.96875, 267621.4375, 117732.84375, 159605.3125, 130515.5390625], \"Category\": [\"Default\", \"Default\", \"Default\", \"Default\", \"Default\", \"Default\", \"Default\", \"Default\", \"Default\", \"Default\", \"Default\", \"Default\", \"Default\", \"Default\", \"Default\", \"Default\", \"Default\", \"Default\", \"Default\", \"Default\", \"Default\", \"Default\", \"Default\", \"Default\", \"Default\", \"Default\", \"Default\", \"Default\", \"Default\", \"Default\", \"Topic1\", \"Topic1\", \"Topic1\", \"Topic1\", \"Topic1\", \"Topic1\", \"Topic1\", \"Topic1\", \"Topic1\", \"Topic1\", \"Topic1\", \"Topic1\", \"Topic1\", \"Topic1\", \"Topic1\", \"Topic1\", \"Topic1\", \"Topic1\", \"Topic1\", \"Topic1\", \"Topic1\", \"Topic1\", \"Topic1\", \"Topic1\", \"Topic1\", \"Topic1\", \"Topic1\", \"Topic1\", \"Topic1\", \"Topic1\", \"Topic1\", \"Topic1\", \"Topic1\", \"Topic1\", \"Topic1\", \"Topic1\", \"Topic1\", \"Topic1\", \"Topic1\", \"Topic1\", \"Topic1\", \"Topic1\", \"Topic1\", \"Topic2\", \"Topic2\", \"Topic2\", \"Topic2\", \"Topic2\", \"Topic2\", \"Topic2\", \"Topic2\", \"Topic2\", \"Topic2\", \"Topic2\", \"Topic2\", \"Topic2\", \"Topic2\", \"Topic2\", \"Topic2\", \"Topic2\", \"Topic2\", \"Topic2\", \"Topic2\", \"Topic2\", \"Topic2\", \"Topic2\", \"Topic2\", \"Topic2\", \"Topic2\", \"Topic2\", \"Topic2\", \"Topic2\", \"Topic2\", \"Topic2\", \"Topic2\", \"Topic2\", \"Topic2\", \"Topic2\", \"Topic2\", \"Topic2\", \"Topic2\", \"Topic2\", \"Topic2\", \"Topic2\", \"Topic2\", \"Topic2\", \"Topic2\", \"Topic3\", \"Topic3\", \"Topic3\", \"Topic3\", \"Topic3\", \"Topic3\", \"Topic3\", \"Topic3\", \"Topic3\", \"Topic3\", \"Topic3\", \"Topic3\", \"Topic3\", \"Topic3\", \"Topic3\", \"Topic3\", \"Topic3\", \"Topic3\", \"Topic3\", \"Topic3\", \"Topic3\", \"Topic3\", \"Topic3\", \"Topic3\", \"Topic3\", \"Topic3\", \"Topic3\", \"Topic3\", \"Topic3\", \"Topic3\", \"Topic3\", \"Topic3\", \"Topic3\", \"Topic3\", \"Topic3\", \"Topic3\", \"Topic3\", \"Topic3\", \"Topic3\", \"Topic3\", \"Topic3\", \"Topic3\", \"Topic3\", \"Topic3\", \"Topic3\", \"Topic3\", \"Topic3\", \"Topic4\", \"Topic4\", \"Topic4\", \"Topic4\", \"Topic4\", \"Topic4\", \"Topic4\", \"Topic4\", \"Topic4\", \"Topic4\", \"Topic4\", \"Topic4\", \"Topic4\", \"Topic4\", \"Topic4\", \"Topic4\", \"Topic4\", \"Topic4\", \"Topic4\", \"Topic4\", \"Topic4\", \"Topic4\", \"Topic4\", \"Topic4\", \"Topic4\", \"Topic4\", \"Topic4\", \"Topic4\", \"Topic4\", \"Topic4\", \"Topic4\", \"Topic4\", \"Topic4\", \"Topic4\", \"Topic4\", \"Topic4\", \"Topic4\", \"Topic4\", \"Topic4\", \"Topic4\", \"Topic4\", \"Topic5\", \"Topic5\", \"Topic5\", \"Topic5\", \"Topic5\", \"Topic5\", \"Topic5\", \"Topic5\", \"Topic5\", \"Topic5\", \"Topic5\", \"Topic5\", \"Topic5\", \"Topic5\", \"Topic5\", \"Topic5\", \"Topic5\", \"Topic5\", \"Topic5\", \"Topic5\", \"Topic5\", \"Topic5\", \"Topic5\", \"Topic5\", \"Topic5\", \"Topic5\", \"Topic5\", \"Topic5\", \"Topic5\", \"Topic5\", \"Topic5\", \"Topic5\", \"Topic5\", \"Topic5\", \"Topic5\", \"Topic5\", \"Topic5\", \"Topic5\", \"Topic5\", \"Topic5\", \"Topic5\", \"Topic5\", \"Topic5\", \"Topic5\", \"Topic5\", \"Topic5\", \"Topic5\", \"Topic5\", \"Topic5\", \"Topic5\", \"Topic6\", \"Topic6\", \"Topic6\", \"Topic6\", \"Topic6\", \"Topic6\", \"Topic6\", \"Topic6\", \"Topic6\", \"Topic6\", \"Topic6\", \"Topic6\", \"Topic6\", \"Topic6\", \"Topic6\", \"Topic6\", \"Topic6\", \"Topic6\", \"Topic6\", \"Topic6\", \"Topic6\", \"Topic6\", \"Topic6\", \"Topic6\", \"Topic6\", \"Topic6\", \"Topic6\", \"Topic6\", \"Topic6\", \"Topic6\", \"Topic6\", \"Topic6\", \"Topic6\", \"Topic6\", \"Topic6\", \"Topic6\", \"Topic6\", \"Topic6\", \"Topic6\", \"Topic6\", \"Topic6\", \"Topic6\", \"Topic6\", \"Topic6\", \"Topic6\", \"Topic6\", \"Topic6\", \"Topic6\", \"Topic7\", \"Topic7\", \"Topic7\", \"Topic7\", \"Topic7\", \"Topic7\", \"Topic7\", \"Topic7\", \"Topic7\", \"Topic7\", \"Topic7\", \"Topic7\", \"Topic7\", \"Topic7\", \"Topic7\", \"Topic7\", \"Topic7\", \"Topic7\", \"Topic7\", \"Topic7\", \"Topic7\", \"Topic7\", \"Topic7\", \"Topic7\", \"Topic7\", \"Topic7\", \"Topic7\", \"Topic7\", \"Topic7\", \"Topic7\", \"Topic7\", \"Topic7\", \"Topic7\", \"Topic7\", \"Topic7\", \"Topic7\", \"Topic7\", \"Topic7\", \"Topic7\", \"Topic7\", \"Topic7\", \"Topic7\", \"Topic7\", \"Topic8\", \"Topic8\", \"Topic8\", \"Topic8\", \"Topic8\", \"Topic8\", \"Topic8\", \"Topic8\", \"Topic8\", \"Topic8\", \"Topic8\", \"Topic8\", \"Topic8\", \"Topic8\", \"Topic8\", \"Topic8\", \"Topic8\", \"Topic8\", \"Topic8\", \"Topic8\", \"Topic8\", \"Topic8\", \"Topic8\", \"Topic8\", \"Topic8\", \"Topic8\", \"Topic8\", \"Topic8\", \"Topic8\", \"Topic8\", \"Topic8\", \"Topic8\", \"Topic8\", \"Topic8\", \"Topic8\", \"Topic8\", \"Topic8\", \"Topic8\", \"Topic8\", \"Topic8\", \"Topic8\", \"Topic8\", \"Topic8\", \"Topic8\", \"Topic8\", \"Topic8\", \"Topic8\"], \"logprob\": [30.0, 29.0, 28.0, 27.0, 26.0, 25.0, 24.0, 23.0, 22.0, 21.0, 20.0, 19.0, 18.0, 17.0, 16.0, 15.0, 14.0, 13.0, 12.0, 11.0, 10.0, 9.0, 8.0, 7.0, 6.0, 5.0, 4.0, 3.0, 2.0, 1.0, -4.3394999504089355, -4.145299911499023, -2.0678000450134277, -4.6803998947143555, -3.263200044631958, -4.862299919128418, -5.684999942779541, -5.18149995803833, -4.629499912261963, -5.470900058746338, -4.421999931335449, -5.300099849700928, -5.042099952697754, -6.01800012588501, -5.030600070953369, -4.205699920654297, -4.369800090789795, -5.354800224304199, -5.455100059509277, -4.3480000495910645, -5.247200012207031, -5.372799873352051, -6.026199817657471, -6.247600078582764, -4.480100154876709, -5.952400207519531, -5.907599925994873, -6.338799953460693, -3.0662999153137207, -5.403200149536133, -5.052599906921387, -3.6412999629974365, -5.2342000007629395, -4.8958001136779785, -4.594799995422363, -3.503700017929077, -4.6905999183654785, -4.406799793243408, -4.547500133514404, -4.798500061035156, -5.0370001792907715, -5.3078999519348145, -5.281499862670898, -4.4096999168396, -4.633800029754639, -4.940899848937988, -3.947499990463257, -4.5843000411987305, -4.071199893951416, -5.367199897766113, -5.4492998123168945, -5.480800151824951, -5.024700164794922, -4.681000232696533, -5.574900150299072, -5.091899871826172, -4.934800148010254, -5.404900074005127, -4.70389986038208, -5.455599784851074, -5.552499771118164, -5.204400062561035, -4.288599967956543, -5.710000038146973, -5.2210001945495605, -5.289999961853027, -4.826099872589111, -5.18310022354126, -4.53849983215332, -5.765200138092041, -5.942999839782715, -5.324900150299072, -5.328999996185303, -4.5329999923706055, -5.273900032043457, -4.7895002365112305, -4.847499847412109, -4.984399795532227, -5.017899990081787, -5.173999786376953, -5.181399822235107, -5.135700225830078, -5.150599956512451, -5.193900108337402, -4.964600086212158, -5.217800140380859, -5.224299907684326, -3.2609000205993652, -4.045100212097168, -4.7957000732421875, -5.308800220489502, -4.550899982452393, -4.257299900054932, -5.342899799346924, -4.975900173187256, -4.992400169372559, -4.791600227355957, -5.238399982452393, -5.591599941253662, -5.706299781799316, -4.35290002822876, -5.241399765014648, -5.26609992980957, -5.470900058746338, -5.382500171661377, -5.503399848937988, -5.644899845123291, -4.417300224304199, -5.014100074768066, -5.704899787902832, -5.228600025177002, -5.397900104522705, -5.433300018310547, -5.91480016708374, -5.826600074768066, -5.75629997253418, -5.495800018310547, -4.296500205993652, -4.905600070953369, -4.846700191497803, -4.5015997886657715, -4.4095001220703125, -4.73859977722168, -4.707300186157227, -5.1082000732421875, -5.063499927520752, -5.059199810028076, -4.967899799346924, -5.067299842834473, -5.1417999267578125, -5.110499858856201, -5.10890007019043, -5.1128997802734375, -5.188300132751465, -4.632400035858154, -2.843100070953369, -3.449399948120117, -4.212399959564209, -4.503200054168701, -5.121699810028076, -3.2093000411987305, -5.388299942016602, -3.8306000232696533, -4.6981000900268555, -5.313799858093262, -5.418499946594238, -5.155700206756592, -4.694900035858154, -5.593900203704834, -5.240600109100342, -5.281799793243408, -5.421000003814697, -6.0177001953125, -6.128799915313721, -5.317299842834473, -4.007900238037109, -4.317999839782715, -5.354100227355957, -5.9243998527526855, -6.093400001525879, -5.157800197601318, -4.947500228881836, -4.9145002365112305, -5.8368000984191895, -5.167200088500977, -3.252700090408325, -4.35129976272583, -4.5594000816345215, -3.438499927520752, -4.267499923706055, -4.85129976272583, -4.900899887084961, -4.700300216674805, -5.239799976348877, -5.179500102996826, -5.233099937438965, -5.054200172424316, -3.1433000564575195, -5.60699987411499, -4.618299961090088, -4.956099987030029, -5.738699913024902, -4.834499835968018, -5.95959997177124, -4.623799800872803, -4.230999946594238, -5.740300178527832, -4.128399848937988, -5.502600193023682, -4.003499984741211, -5.432000160217285, -5.930600166320801, -5.5671000480651855, -6.149799823760986, -6.034999847412109, -5.534900188446045, -5.041800022125244, -5.289000034332275, -6.441699981689453, -5.529799938201904, -5.466700077056885, -5.702300071716309, -5.563300132751465, -5.178299903869629, -4.762199878692627, -5.020699977874756, -4.480400085449219, -5.150199890136719, -4.662199974060059, -5.475399971008301, -4.828800201416016, -5.428500175476074, -5.077400207519531, -5.358699798583984, -5.101600170135498, -5.15880012512207, -5.466800212860107, -5.165599822998047, -5.202899932861328, -5.309700012207031, -5.302700042724609, -5.297599792480469, -5.330100059509277, -5.274199962615967, -5.321100234985352, -5.182499885559082, -4.73360013961792, -4.496699810028076, -5.30810022354126, -3.359100103378296, -5.004799842834473, -3.9293999671936035, -3.73799991607666, -4.776599884033203, -5.288300037384033, -5.803599834442139, -5.19379997253418, -5.13100004196167, -4.616300106048584, -5.09119987487793, -5.724800109863281, -5.462699890136719, -5.7270002365112305, -5.971099853515625, -5.377399921417236, -5.35830020904541, -4.726500034332275, -5.4517998695373535, -5.244800090789795, -4.703199863433838, -5.251699924468994, -5.623000144958496, -4.969099998474121, -5.419099807739258, -3.3303000926971436, -5.018700122833252, -4.756100177764893, -4.1697998046875, -4.379899978637695, -4.897600173950195, -4.517000198364258, -5.201200008392334, -4.705699920654297, -4.811399936676025, -4.666399955749512, -5.145899772644043, -4.533400058746338, -5.026700019836426, -5.072800159454346, -4.9822998046875, -5.041500091552734, -5.1290998458862305, -5.142899990081787, -3.1547999382019043, -3.801500082015991, -3.2411999702453613, -4.119999885559082, -4.134099960327148, -4.638500213623047, -3.641400098800659, -5.636199951171875, -4.025599956512451, -5.11269998550415, -5.037899971008301, -5.4475998878479, -4.216100215911865, -2.35509991645813, -5.067999839782715, -4.313199996948242, -5.969799995422363, -5.690700054168701, -6.1427998542785645, -6.045899868011475, -4.190700054168701, -5.0441999435424805, -3.5940001010894775, -6.291200160980225, -5.305699825286865, -5.891300201416016, -5.31220006942749, -4.983399868011475, -6.110400199890137, -5.48829984664917, -3.4465999603271484, -3.8159000873565674, -4.826900005340576, -5.233699798583984, -4.6143999099731445, -5.081699848175049, -4.771299839019775, -5.146200180053711, -4.712600231170654, -4.929100036621094, -5.0040998458862305, -5.058499813079834, -5.002600193023682, -2.1858999729156494, -3.815999984741211, -3.148099899291992, -2.6559998989105225, -2.6568000316619873, -4.451099872589111, -3.609499931335449, -4.0218000411987305, -3.6895999908447266, -4.309899806976318, -4.9096999168396, -4.446300029754639, -5.522600173950195, -5.226799964904785, -3.6826000213623047, -5.686500072479248, -4.355500221252441, -5.46589994430542, -6.1732001304626465, -6.395100116729736, -5.833399772644043, -6.260700225830078, -6.091700077056885, -6.144000053405762, -6.1331000328063965, -5.687399864196777, -5.790599822998047, -6.319300174713135, -5.984899997711182, -5.498000144958496, -5.807400226593018, -4.210700035095215, -3.395900011062622, -5.007999897003174, -5.670499801635742, -3.930999994277954, -4.747600078582764, -4.500800132751465, -5.381199836730957, -5.387400150299072, -5.263800144195557, -5.484499931335449, -5.435100078582764, -5.12939977645874, -5.364299774169922, -5.355899810791016, -5.450099945068359], \"loglift\": [30.0, 29.0, 28.0, 27.0, 26.0, 25.0, 24.0, 23.0, 22.0, 21.0, 20.0, 19.0, 18.0, 17.0, 16.0, 15.0, 14.0, 13.0, 12.0, 11.0, 10.0, 9.0, 8.0, 7.0, 6.0, 5.0, 4.0, 3.0, 2.0, 1.0, 1.5943000316619873, 1.5577000379562378, 1.5413999557495117, 1.5302000045776367, 1.5119999647140503, 1.486899971961975, 1.4625999927520752, 1.4594999551773071, 1.458899974822998, 1.4462000131607056, 1.4275000095367432, 1.426300048828125, 1.3653000593185425, 1.3372000455856323, 1.3346999883651733, 1.2884000539779663, 1.2858999967575073, 1.2851999998092651, 1.2781000137329102, 1.2487000226974487, 1.2207000255584717, 1.1861000061035156, 1.1854000091552734, 1.1833000183105469, 1.1710000038146973, 1.1611000299453735, 1.1578999757766724, 1.1519999504089355, 1.1434999704360962, 1.1166000366210938, 1.0887999534606934, 0.9205999970436096, 1.0799000263214111, 1.0023000240325928, 0.9092000126838684, 0.31839999556541443, 0.7379000186920166, 0.3862999975681305, 0.35109999775886536, 0.26750001311302185, 0.5616999864578247, 0.6486999988555908, -0.17080000042915344, 1.7581000328063965, 1.738700032234192, 1.735700011253357, 1.7355999946594238, 1.7037999629974365, 1.6928999423980713, 1.6217999458312988, 1.5813000202178955, 1.5676000118255615, 1.5084999799728394, 1.5053000450134277, 1.4955999851226807, 1.4692000150680542, 1.4671000242233276, 1.458899974822998, 1.4254000186920166, 1.40910005569458, 1.4075000286102295, 1.406999945640564, 1.3794000148773193, 1.3660000562667847, 1.365399956703186, 1.3610999584197998, 1.3381999731063843, 1.3243999481201172, 1.3157000541687012, 1.301800012588501, 1.2893999814987183, 1.2874000072479248, 1.2797000408172607, 1.2273999452590942, 1.2010999917984009, 1.0571999549865723, 1.0650999546051025, 1.044100046157837, 1.0206999778747559, 1.12909996509552, 0.878600001335144, 0.7523000240325928, 0.7411999702453613, 0.6765999794006348, -1.3554999828338623, 0.4729999899864197, 0.010400000028312206, 1.8615000247955322, 1.8485000133514404, 1.7651000022888184, 1.764799952507019, 1.7470999956130981, 1.7003999948501587, 1.6766999959945679, 1.6440999507904053, 1.6361000537872314, 1.6332000494003296, 1.6288000345230103, 1.6160999536514282, 1.5880000591278076, 1.5770000219345093, 1.534999966621399, 1.52839994430542, 1.5268000364303589, 1.5261000394821167, 1.5013999938964844, 1.496000051498413, 1.4896999597549438, 1.4853999614715576, 1.4526000022888184, 1.4474999904632568, 1.4460999965667725, 1.4225000143051147, 1.4220999479293823, 1.4127999544143677, 1.4119000434875488, 1.3530000448226929, 1.2706999778747559, 1.2963000535964966, 1.266700029373169, 1.1895999908447266, 0.9735000133514404, 1.0810999870300293, 0.9768999814987183, 1.1210999488830566, 1.0216000080108643, 0.9710999727249146, 0.7228999733924866, 0.6690000295639038, 0.8004999756813049, 0.6499000191688538, 0.41990000009536743, -0.3197999894618988, 0.04910000041127205, 2.0320000648498535, 2.0155999660491943, 1.9976999759674072, 1.9168000221252441, 1.8926000595092773, 1.7828999757766724, 1.6892999410629272, 1.6092000007629395, 1.5918999910354614, 1.5856000185012817, 1.5520999431610107, 1.539199948310852, 1.538599967956543, 1.51419997215271, 1.492799997329712, 1.4535000324249268, 1.4312000274658203, 1.4230999946594238, 1.4092999696731567, 1.3984999656677246, 1.3940000534057617, 1.2577999830245972, 1.253100037574768, 1.25, 1.2175999879837036, 1.2085000276565552, 1.198799967765808, 1.1937999725341797, 1.1856000423431396, 1.1411000490188599, 1.105299949645996, 0.957099974155426, 0.8860999941825867, 0.8690999746322632, 0.38359999656677246, 0.29440000653266907, 0.6161999702453613, 0.5932000279426575, 0.09279999881982803, 1.0721999406814575, 0.4171000123023987, 1.9704999923706055, 1.9697999954223633, 1.9355000257492065, 1.6586999893188477, 1.5867999792099, 1.5369999408721924, 1.5174000263214111, 1.5012999773025513, 1.485200047492981, 1.4763000011444092, 1.465399980545044, 1.4505000114440918, 1.4491000175476074, 1.440600037574768, 1.4375, 1.4368000030517578, 1.3911000490188599, 1.3769999742507935, 1.3525999784469604, 1.3310999870300293, 1.3257999420166016, 1.3178999423980713, 1.3151999711990356, 1.309999942779541, 1.2997000217437744, 1.2984000444412231, 1.2848000526428223, 1.266700029373169, 1.260200023651123, 1.243499994277954, 1.2307000160217285, 1.0887999534606934, 1.1920000314712524, 1.0424000024795532, 1.228700041770935, 0.9175000190734863, 1.167199969291687, 0.8650000095367432, 1.1059000492095947, 0.8664000034332275, 0.8427000045776367, 1.191499948501587, 0.43309998512268066, 0.4812999963760376, 0.6359000205993652, 0.6018000245094299, 0.5728999972343445, 0.5616999864578247, 0.10890000313520432, 0.41510000824928284, 2.177999973297119, 2.1122000217437744, 2.106600046157837, 2.090399980545044, 2.08270001411438, 2.0613999366760254, 2.0536999702453613, 1.9249999523162842, 1.9019999504089355, 1.8417999744415283, 1.8306000232696533, 1.8305000066757202, 1.823099970817566, 1.7984000444412231, 1.7613999843597412, 1.7455999851226807, 1.7402000427246094, 1.7310999631881714, 1.719499945640564, 1.7080999612808228, 1.6936999559402466, 1.6299999952316284, 1.6265000104904175, 1.5951999425888062, 1.5816999673843384, 1.5789999961853027, 1.5571999549865723, 1.555999994277954, 1.5348000526428223, 1.5062999725341797, 1.4836000204086304, 1.441499948501587, 1.2681000232696533, 1.1892999410629272, 1.3145999908447266, 1.0541000366210938, 1.440999984741211, 1.030500054359436, 1.0383000373840332, 0.8377000093460083, 1.2944999933242798, -0.9243000149726868, 0.7196000218391418, 0.8152999877929688, 0.1282999962568283, 0.4259999990463257, 0.7944999933242798, 0.7886000275611877, 2.125200033187866, 2.1022000312805176, 1.9936000108718872, 1.931399941444397, 1.9049999713897705, 1.8665000200271606, 1.7369999885559082, 1.736299991607666, 1.6790000200271606, 1.6526999473571777, 1.5429999828338623, 1.5006999969482422, 1.4752000570297241, 1.4671000242233276, 1.406999945640564, 1.371000051498413, 1.3530000448226929, 1.3320000171661377, 1.3250999450683594, 1.305799961090088, 1.2767000198364258, 1.2687000036239624, 1.2425999641418457, 1.236899971961975, 1.1937999725341797, 1.1847000122070312, 1.149399995803833, 1.1273000240325928, 1.1220999956130981, 1.1194000244140625, 1.1153000593185425, 0.9771000146865845, 1.0273000001907349, 1.0693999528884888, 0.8266000151634216, 0.9240000247955322, 0.6571999788284302, 0.8924000263214111, 0.5248000025749207, 0.6484000086784363, 0.732200026512146, 0.5085999965667725, 0.2630999982357025, 2.7432000637054443, 2.647599935531616, 2.608099937438965, 2.4546000957489014, 2.4091999530792236, 2.3153998851776123, 2.20740008354187, 2.2009999752044678, 2.0467000007629395, 2.011199951171875, 1.9401999711990356, 1.7628999948501587, 1.707800030708313, 1.6920000314712524, 1.5829999446868896, 1.488800048828125, 1.3000999689102173, 1.1851999759674072, 1.1198999881744385, 0.9965000152587891, 0.9692999720573425, 0.9422000050544739, 0.9326000213623047, 0.9225000143051147, 0.8895999789237976, 0.8508999943733215, 0.8495000004768372, 0.8478000164031982, 0.823199987411499, 0.816100001335144, 0.8043000102043152, 0.5824000239372253, 0.4262000024318695, 0.37040001153945923, 0.6787999868392944, -0.32190001010894775, 0.02759999968111515, -0.29100000858306885, 0.35510000586509705, 0.3587999939918518, 0.2037000060081482, 0.365200012922287, 0.2328999936580658, -0.5674999952316284, 0.018799999728798866, -0.27709999680519104, -0.17010000348091125]}, \"token.table\": {\"Topic\": [1, 2, 3, 4, 5, 6, 7, 8, 1, 2, 3, 4, 5, 6, 7, 1, 2, 3, 4, 5, 1, 2, 4, 6, 7, 1, 2, 3, 4, 5, 6, 7, 8, 1, 2, 3, 4, 5, 6, 7, 8, 1, 2, 3, 4, 5, 7, 8, 1, 2, 3, 4, 5, 6, 7, 8, 1, 2, 3, 6, 8, 1, 2, 3, 5, 7, 8, 1, 2, 3, 4, 5, 6, 8, 1, 2, 3, 4, 5, 6, 7, 8, 1, 2, 3, 4, 5, 6, 7, 8, 1, 2, 3, 4, 5, 6, 7, 8, 1, 2, 4, 6, 8, 1, 2, 3, 4, 5, 6, 8, 1, 3, 4, 6, 7, 8, 1, 2, 6, 7, 8, 1, 2, 4, 6, 7, 8, 1, 3, 6, 7, 1, 2, 3, 4, 5, 6, 8, 1, 2, 3, 6, 7, 8, 1, 2, 3, 4, 5, 6, 7, 1, 4, 6, 7, 8, 1, 2, 3, 4, 5, 6, 7, 1, 2, 4, 6, 7, 8, 2, 3, 4, 6, 7, 8, 1, 2, 3, 4, 5, 6, 7, 8, 1, 3, 4, 6, 8, 1, 2, 3, 4, 5, 6, 8, 1, 2, 3, 6, 7, 8, 1, 2, 3, 4, 5, 6, 7, 8, 1, 2, 3, 4, 6, 8, 1, 2, 3, 4, 5, 6, 7, 8, 2, 3, 6, 7, 8, 1, 2, 4, 6, 7, 8, 1, 2, 4, 8, 1, 4, 6, 8, 1, 2, 3, 4, 5, 6, 8, 1, 2, 3, 4, 6, 2, 3, 7, 8, 1, 2, 3, 7, 1, 2, 3, 4, 5, 7, 8, 1, 4, 6, 8, 1, 2, 3, 4, 5, 7, 2, 3, 5, 6, 7, 8, 2, 3, 4, 5, 6, 7, 8, 1, 2, 3, 4, 5, 7, 1, 2, 3, 4, 5, 6, 1, 2, 3, 4, 5, 6, 7, 8, 1, 2, 3, 5, 6, 1, 2, 3, 4, 5, 6, 7, 8, 1, 2, 3, 4, 5, 6, 7, 1, 3, 4, 5, 6, 8, 1, 2, 4, 5, 6, 7, 8, 2, 3, 5, 6, 7, 8, 3, 5, 7, 8, 1, 2, 3, 5, 6, 2, 3, 4, 5, 7, 1, 2, 3, 4, 5, 6, 7, 8, 1, 2, 3, 4, 5, 6, 7, 8, 1, 2, 3, 4, 5, 6, 7, 8, 2, 3, 6, 7, 2, 3, 6, 7, 1, 2, 3, 4, 5, 6, 7, 8, 1, 2, 3, 4, 6, 7, 1, 3, 4, 5, 6, 1, 2, 3, 5, 6, 7, 8, 1, 2, 3, 4, 5, 6, 7, 8, 1, 2, 3, 4, 5, 7, 8, 1, 4, 5, 8, 1, 2, 3, 4, 5, 6, 7, 8, 1, 2, 3, 4, 5, 6, 8, 1, 2, 3, 4, 5, 7, 1, 3, 4, 5, 6, 7, 8, 1, 2, 3, 4, 5, 6, 7, 3, 5, 7, 8, 3, 5, 7, 2, 3, 4, 5, 6, 7, 8, 1, 2, 3, 4, 5, 7, 8, 1, 2, 3, 4, 5, 6, 8, 2, 3, 6, 7, 8, 1, 2, 3, 4, 5, 7, 8, 1, 2, 3, 4, 7, 1, 2, 3, 4, 7, 8, 1, 2, 3, 4, 5, 6, 7, 8, 1, 2, 3, 5, 6, 2, 3, 6, 7, 8, 1, 2, 6, 7, 1, 2, 3, 4, 6, 8, 1, 2, 3, 4, 5, 6, 7, 8, 2, 3, 4, 5, 6, 7, 8, 1, 2, 4, 6, 7, 8, 1, 2, 3, 4, 5, 7, 8, 1, 4, 7, 8, 1, 2, 3, 4, 5, 6, 7, 8, 1, 2, 3, 5, 6, 7, 8, 1, 2, 3, 4, 5, 6, 7, 8, 1, 2, 3, 4, 6, 7, 8, 1, 2, 3, 4, 5, 6, 7, 8, 2, 3, 7, 1, 2, 3, 4, 5, 7, 8, 1, 2, 3, 5, 6, 7, 1, 2, 3, 4, 5, 6, 7, 8, 1, 2, 3, 4, 5, 7, 8, 1, 2, 3, 4, 5, 6, 7, 8, 1, 2, 3, 4, 5, 6, 7, 1, 2, 3, 5, 7, 8, 1, 2, 3, 4, 5, 6, 7, 8, 3, 4, 5, 6, 7, 1, 2, 3, 4, 5, 6, 7, 8, 1, 5, 6, 7, 8, 1, 2, 3, 4, 5, 6, 7, 8, 1, 2, 5, 6, 8, 1, 2, 3, 5, 8, 1, 2, 3, 4, 5, 6, 7, 8, 1, 2, 1, 2, 3, 4, 5, 6, 7, 8, 1, 3, 4, 5, 7, 8, 1, 2, 3, 5, 6, 7, 8, 1, 2, 6, 7, 1, 2, 4, 6, 7, 8, 1, 2, 3, 4, 6, 7, 8, 1, 3, 4, 5, 6, 7, 8, 1, 3, 4, 5, 1, 2, 3, 4, 5, 6, 7, 8, 1, 2, 3, 4, 5, 6, 7, 8, 1, 2, 3, 4, 5, 6, 7, 1, 2, 3, 5, 6, 7, 8, 1, 2, 3, 4, 5, 6, 7, 8, 1, 2, 3, 4, 5, 6, 7, 8, 1, 2, 3, 4, 5, 6, 7, 8, 1, 2, 3, 4, 5, 6, 2, 3, 4, 6, 7, 8, 1, 2, 3, 4, 5, 6, 7, 8, 1, 2, 3, 4, 5, 6, 7, 8, 1, 2, 3, 4, 5, 6, 7, 8, 2, 3, 4, 5, 6, 7, 1, 2, 3, 4, 5, 6, 7, 8, 1, 2, 3, 4, 5, 6, 8, 1, 2, 7, 8, 2, 3, 5, 6, 7, 1, 2, 3, 4, 5, 6, 7, 8, 1, 2, 3, 4, 5, 6, 3, 4, 6, 7, 8, 2, 3, 4, 5, 6, 7, 8, 1, 2, 3, 5, 6, 7, 8, 1, 2, 3, 6, 1, 2, 3, 4, 5, 6, 7, 8, 1, 2, 4, 5, 6, 7, 8, 1, 2, 3, 4, 5, 6, 7, 8, 2, 3, 4, 5, 6, 8, 1, 3, 4, 5, 8, 1, 2, 3, 4, 5, 6, 1, 2, 4, 6, 8, 1, 2, 3, 4, 6, 7, 1, 2, 3, 5, 7, 8, 1, 2, 3, 4, 5, 7, 8, 1, 3, 4, 5, 6, 7, 8, 1, 2, 3, 4, 5, 6, 8, 1, 2, 4, 6, 1, 2, 5, 7, 8, 1, 2, 3, 4, 5, 6, 1, 2, 3, 4, 5, 6, 7, 8, 3, 5, 7, 8, 2, 4, 5, 6, 7, 1, 2, 3, 4, 5, 6, 1, 2, 3, 4, 5, 6, 7, 8, 1, 2, 3, 4, 7, 8, 1, 2, 3, 4, 5, 6, 7, 1, 2, 5, 6, 7, 8, 1, 2, 3, 5, 7, 8, 2, 3, 5, 6, 7, 8, 2, 3, 4, 5, 7, 8, 1, 2, 3, 4, 5, 7, 8, 2, 7, 1, 2, 3, 4, 5, 6, 7, 8, 1, 2, 4, 6, 7, 1, 2, 3, 4, 5, 7, 8, 1, 2, 3, 4, 5, 6, 7, 8, 2, 3, 5, 6, 7, 8, 2, 3, 4, 5, 7, 1, 2, 3, 4, 6, 8, 2, 3, 4, 5, 6, 1, 2, 3, 4, 5, 6, 7, 8, 4, 6, 7, 1, 2, 3, 4, 5, 6, 1, 2, 3, 4, 5, 6, 7, 8, 1, 2, 3, 4, 5, 7, 8, 1, 2, 3, 4, 5, 8, 1, 2, 3, 4, 5, 6, 7, 8, 1, 2, 3, 5, 6, 7, 8, 1, 2, 4, 6, 8, 2, 3, 4, 5, 6, 7, 8, 1, 2, 3, 4, 5, 6, 7, 8, 1, 3, 4, 5, 6, 7, 8, 1, 4, 6, 8, 1, 3, 5, 6, 7, 1, 2, 3, 4, 5, 6, 7, 2, 3, 4, 5, 6, 7, 8, 1, 2, 3, 4, 5, 6, 7, 8, 2, 3, 4, 5, 7, 8, 2, 3, 4, 5, 6, 7, 8, 1, 2, 3, 4, 5, 6, 7, 2, 3, 5, 6, 7, 8, 1, 2, 4, 8, 1, 2, 3, 4, 5, 6, 7, 8, 1, 4, 6, 8, 1, 2, 3, 4, 5, 6, 7, 1, 2, 3, 4, 5, 6, 1, 2, 3, 4, 5, 6, 1, 2, 3, 4, 5, 6, 7, 8, 1, 2, 3, 4, 6, 7, 8, 1, 2, 3, 4, 5, 6, 7, 8, 1, 2, 3, 4, 5, 6, 7, 8, 1, 2, 3, 5, 8, 2, 3, 5, 7, 8, 1, 2, 3, 4, 5, 7, 8, 2, 3, 5, 6, 7, 1, 2, 3, 5, 6, 7, 8, 1, 2, 3, 4, 5, 6, 8, 1, 2, 3, 4, 5, 6, 7, 8, 4, 5, 6, 7, 8, 1, 2, 6, 8, 1, 2, 3, 4, 5, 7, 8, 2, 3, 4, 5, 7, 8, 1, 3, 4, 5, 6, 1, 2, 3, 5, 6, 7, 8, 1, 2, 3, 4, 5, 6, 8, 3, 4, 5, 6, 7, 2, 3, 4, 5, 6, 1, 2, 3, 5, 7, 8, 1, 2, 6, 8, 2, 3, 4, 5, 6, 7, 8, 1, 2, 3, 4, 5, 6, 7, 8, 1, 3, 5, 6, 7, 8, 1, 2, 3, 5, 8, 2, 3, 4, 5, 6, 7, 8, 1, 2, 3, 4, 6, 7, 8, 1, 2, 3, 4, 5, 6, 7, 8, 1, 2, 3, 4, 5, 6, 8, 1, 2, 3, 4, 5, 6, 1, 2, 3, 4, 5, 6, 8, 1, 4, 6, 8, 1, 2, 3, 4, 5, 6, 7, 8, 1, 3, 5, 7, 1, 2, 3, 5, 7, 8, 2, 3, 4, 5, 7, 2, 3, 5, 7, 8, 1, 3, 4, 5, 6, 7, 8, 2, 5, 6, 7, 8, 1, 2, 3, 4, 5, 6, 7, 8, 1, 2, 3, 4, 5, 6, 1, 2, 3, 7, 8, 1, 2, 3, 4, 5, 6, 7, 8, 1, 2, 4, 6, 8, 1, 2, 4, 7, 8, 1, 3, 4, 6, 7, 1, 3, 4, 5, 1, 2, 3, 4, 5, 7, 8, 1, 2, 3, 4, 5, 7, 8, 1, 2, 3, 5, 6, 7, 1, 2, 3, 5, 7, 8, 1, 2, 3, 4, 5, 6, 7, 8, 1, 2, 4, 5, 6, 7, 8, 3, 7, 8, 2, 3, 4, 5, 6, 7, 8, 1, 3, 4, 5, 6, 8, 1, 2, 4, 6, 7, 8, 1, 4, 6, 7, 8, 1, 2, 4, 6, 7, 8, 1, 2, 4, 6, 8, 2, 3, 4, 5, 6, 1, 3, 6, 7, 8, 1, 2, 3, 4, 5, 6, 7, 8, 1, 2, 3, 4, 5, 6, 7, 8, 1, 2, 3, 4, 5, 7, 8, 1, 2, 3, 4, 5, 6, 7, 8, 1, 2, 3, 4, 5, 6, 7, 8, 1, 2, 3, 4, 5, 6, 7, 8, 2, 3, 4, 5, 7, 8], \"Freq\": [0.016542432829737663, 0.04262109100818634, 0.11538833379745483, 0.1036529392004013, 0.17274191975593567, 0.4051339030265808, 0.1356479525566101, 0.008251754567027092, 0.050943709909915924, 0.10188741981983185, 0.22561389207839966, 0.060025714337825775, 0.41456183791160583, 0.0063362824730575085, 0.1406654715538025, 0.5955496430397034, 0.22624947130680084, 0.008680815808475018, 0.11371868848800659, 0.055785663425922394, 0.14013151824474335, 0.09166467189788818, 0.4525417983531952, 0.3122360110282898, 0.0034238426014781, 0.04654572159051895, 0.032870661467313766, 0.2691713869571686, 0.18935810029506683, 0.4207877516746521, 0.004149424843490124, 0.037020083516836166, 3.6081954021938145e-05, 0.06655984371900558, 0.5522480607032776, 0.05590645968914032, 0.0036871868651360273, 0.012299693189561367, 0.0049253199249506, 0.29406335949897766, 0.01032684464007616, 0.27295613288879395, 0.03407978639006615, 0.12805524468421936, 0.23806409537792206, 0.1518581211566925, 0.03842363506555557, 0.1365310400724411, 0.12605899572372437, 0.018731657415628433, 0.6023493409156799, 0.05933379381895065, 0.1166931688785553, 0.035742029547691345, 0.014327187091112137, 0.02678120881319046, 0.02653520368039608, 0.5779180526733398, 0.18861427903175354, 0.010837472975254059, 0.19607071578502655, 0.002936340868473053, 0.4924699366092682, 0.031236592680215836, 0.006935840006917715, 0.4298954904079437, 0.03650175407528877, 0.0826658084988594, 0.07260159403085709, 0.12520134449005127, 0.13684798777103424, 0.13665810227394104, 0.28363358974456787, 0.1623566597700119, 0.20451822876930237, 0.4264419674873352, 0.12516039609909058, 0.05024510249495506, 0.14213381707668304, 0.019930602982640266, 0.03080061264336109, 0.0007561746169812977, 0.077159084379673, 0.41118788719177246, 0.12369013577699661, 0.003190420102328062, 0.005464617162942886, 0.10688725858926773, 0.25695154070854187, 0.015477628447115421, 0.27073705196380615, 0.21804596483707428, 0.059011977165937424, 0.025637594982981682, 0.05658474937081337, 0.14983075857162476, 0.08035135269165039, 0.13991957902908325, 0.09973980486392975, 0.0028530496638268232, 0.8578091263771057, 0.035312335938215256, 0.004279574379324913, 0.16152404248714447, 0.17085827887058258, 0.05235545337200165, 0.050769828259944916, 0.0801786333322525, 0.45974069833755493, 0.02459210343658924, 0.02818138338625431, 0.01284654438495636, 0.4327896535396576, 0.44210630655288696, 0.0773686021566391, 0.006712608505040407, 0.15770691633224487, 0.019864564761519432, 0.12371529638767242, 0.0009508599760010839, 0.6977630853652954, 0.07537458091974258, 0.07126660645008087, 0.00927687156945467, 0.012336265295743942, 0.018232999369502068, 0.8135150074958801, 0.804665744304657, 0.0013755852123722434, 0.006757562514394522, 0.18719995021820068, 0.06228844076395035, 0.04114726185798645, 0.29637062549591064, 0.1994302123785019, 0.2664482295513153, 0.06364425271749496, 0.07065977901220322, 0.10042650252580643, 0.11201014369726181, 0.25122350454330444, 0.17129112780094147, 0.21123111248016357, 0.1537846326828003, 0.056053876876831055, 0.03957081958651543, 0.7183051109313965, 0.032793812453746796, 0.0983240082859993, 0.016138462349772453, 0.03882420063018799, 0.020627373829483986, 0.01305199321359396, 0.873348593711853, 0.07119596749544144, 0.02177133783698082, 0.013112333603203297, 0.03980904445052147, 0.04022863879799843, 0.04091047868132591, 0.8229300379753113, 0.014476016163825989, 0.02853243611752987, 0.0052307648584246635, 0.6162987351417542, 0.09284607321023941, 0.06538455933332443, 0.2030145823955536, 0.01723286136984825, 0.6425179839134216, 0.0017645128536969423, 0.08879029005765915, 0.12125732749700546, 0.1309739053249359, 0.01468074694275856, 0.11281176656484604, 0.023852873593568802, 0.026172909885644913, 0.5233857035636902, 0.05763840302824974, 0.03936811536550522, 0.18335536122322083, 0.03342302143573761, 0.6785575151443481, 0.000673868868034333, 0.23390842974185944, 0.07949754595756531, 0.007374593522399664, 0.6715831756591797, 0.025625942274928093, 0.018088899552822113, 0.00865121278911829, 0.03493255004286766, 0.20579400658607483, 0.03535855561494827, 0.001135189551860094, 0.8404759764671326, 0.0038298312574625015, 0.0802888572216034, 0.026751486584544182, 0.04751742631196976, 0.0889943540096283, 0.6697247624397278, 0.09881404787302017, 0.030800579115748405, 0.030049344524741173, 0.04078125208616257, 0.0027634664438664913, 0.03807144612073898, 0.026360025629401207, 0.14780989289283752, 0.004945691209286451, 0.12955671548843384, 0.4256863594055176, 0.2656397223472595, 0.1421264261007309, 0.0029022814705967903, 0.014596768654882908, 0.06931331008672714, 0.0451560840010643, 0.6073450446128845, 0.016816159710288048, 0.10175057500600815, 0.17739823460578918, 0.7104587554931641, 0.02020825259387493, 0.08461930602788925, 0.007293755654245615, 0.8738508224487305, 0.03820153698325157, 0.0013244007714092731, 0.04318065196275711, 2.882264880099683e-06, 0.04344005510210991, 0.8641147613525391, 0.035401638597249985, 0.05265556648373604, 0.047817472368478775, 0.016137847676873207, 0.011413078755140305, 0.9606621265411377, 0.011781242676079273, 0.03363777697086334, 0.05437123402953148, 0.2631811797618866, 0.023074334487318993, 0.04136856272816658, 0.0428832471370697, 0.5414698123931885, 0.12799042463302612, 0.12506991624832153, 0.15729808807373047, 0.07326914370059967, 0.5163681507110596, 0.06309065967798233, 0.07465656846761703, 0.8615670800209045, 0.0006719377124682069, 0.06362318247556686, 0.8430014848709106, 0.0366661436855793, 0.056701164692640305, 0.03164707124233246, 0.33354172110557556, 0.006697097793221474, 0.054058272391557693, 0.029327159747481346, 0.39884936809539795, 0.1458916813135147, 0.19168834388256073, 0.5529119968414307, 0.14832763373851776, 0.1070152223110199, 0.01192348450422287, 0.007171371020376682, 0.005644934717565775, 0.45113396644592285, 0.42734459042549133, 0.09677030891180038, 0.15107958018779755, 0.1655910313129425, 0.004818027839064598, 0.43436816334724426, 0.060454778373241425, 0.183658629655838, 0.605330228805542, 0.05422279238700867, 0.07202299684286118, 0.04694649577140808, 0.06302011758089066, 0.1523088961839676, 0.006166352424770594, 0.004326025955379009, 0.011811748147010803, 0.8421967029571533, 0.009224615059792995, 0.05831652879714966, 0.07413621246814728, 0.5097125768661499, 0.044668979942798615, 0.06519794464111328, 0.22520729899406433, 0.10506166517734528, 0.05015663802623749, 0.014509372413158417, 0.6610947847366333, 0.06051694229245186, 0.023233363404870033, 0.05294084548950195, 0.002158039715141058, 0.17686742544174194, 0.00867807399481535, 0.04462705925107002, 0.1832507699728012, 0.0047650146298110485, 0.021375136449933052, 0.7459720373153687, 0.023209193721413612, 0.10301367193460464, 0.6232436895370483, 0.02313597872853279, 0.05981675162911415, 0.009847433306276798, 0.08771171420812607, 0.06999365240335464, 0.08575212210416794, 0.31439632177352905, 0.10227485746145248, 0.011005770415067673, 0.19939866662025452, 0.2458987534046173, 0.04129275307059288, 0.07656196504831314, 0.07915891706943512, 0.5210253596305847, 0.11490707099437714, 0.14049184322357178, 0.06790546327829361, 0.15287500619888306, 0.14331185817718506, 0.033967211842536926, 0.42851462960243225, 0.13011743128299713, 0.04490618780255318, 0.06631049513816833, 0.016323145478963852, 0.6751846075057983, 0.16440296173095703, 0.09438526630401611, 0.027062056586146355, 0.022649340331554413, 0.8037919402122498, 0.02263522520661354, 0.15811459720134735, 0.015437223948538303, 0.29794827103614807, 0.6373082995414734, 0.059970539063215256, 0.004555669613182545, 0.00022404933406505734, 0.012017399072647095, 0.24330104887485504, 0.6024284958839417, 0.12156850099563599, 0.02067156694829464, 0.0565972737967968, 0.03567751124501228, 0.003624710952863097, 0.0354703851044178, 0.4892841875553131, 0.35812145471572876, 0.0069387322291731834, 0.014291717670857906, 0.005891701672226191, 0.033643681555986404, 0.008901485241949558, 0.07628229260444641, 0.0022425842471420765, 0.4907374382019043, 0.3647002577781677, 0.017601335421204567, 0.13699427247047424, 0.08422962576150894, 0.056739259511232376, 0.13414114713668823, 0.11282356083393097, 0.38673135638237, 0.04913095757365227, 0.03920786827802658, 0.6675563454627991, 0.035880133509635925, 0.031214958056807518, 0.26534610986709595, 0.3663829267024994, 0.07897087931632996, 0.2224021852016449, 0.33224213123321533, 0.2064230889081955, 0.027334565296769142, 0.00878719612956047, 0.14631137251853943, 0.377636581659317, 0.13174712657928467, 0.012040587142109871, 0.08972670137882233, 0.33092787861824036, 0.42982834577560425, 0.15755997598171234, 0.009447252377867699, 0.07218854874372482, 5.769314520875923e-05, 0.08708684146404266, 0.0238864254206419, 0.03703491762280464, 0.8223942518234253, 0.02958410419523716, 0.07589352875947952, 0.2852727770805359, 0.09110169857740402, 0.030489977449178696, 0.07254257798194885, 0.02750726230442524, 0.4171382486820221, 0.0440419539809227, 0.040593478828668594, 0.6552103161811829, 0.056160882115364075, 0.10286308825016022, 0.013990956358611584, 0.02340036816895008, 0.06374752521514893, 0.036103446036577225, 0.008764086291193962, 0.6510525941848755, 0.07095897942781448, 0.027454109862446785, 0.18635517358779907, 0.019321152940392494, 0.30666056275367737, 0.6020380258560181, 0.0005988233024254441, 0.09067445248365402, 0.5508701801300049, 0.041182730346918106, 0.1261988878250122, 0.0014438738580793142, 0.03831653296947479, 0.10617860406637192, 0.0002801546361297369, 0.13555173575878143, 0.07059786468744278, 0.058132369071245193, 0.6085320115089417, 0.06622295826673508, 0.058132369071245193, 0.13274556398391724, 0.005693376529961824, 0.80517578125, 0.00044824957149103284, 0.08734890073537827, 0.0366070494055748, 0.028717856854200363, 0.04168721288442612, 0.5974202752113342, 0.005559626966714859, 0.2151959091424942, 0.005224132444709539, 0.03134479373693466, 0.04380602762103081, 0.1014631912112236, 0.04195331409573555, 0.19327430427074432, 0.45033982396125793, 0.031163057312369347, 0.18260283768177032, 0.04074559733271599, 0.059930477291345596, 0.19332462549209595, 0.5607070922851562, 0.2297130823135376, 0.016232775524258614, 0.25494807958602905, 0.19542409479618073, 0.5495901107788086, 0.25670021772384644, 0.1522701382637024, 0.008424838073551655, 0.13655821979045868, 0.30733051896095276, 0.05236402526497841, 0.086361363530159, 0.16689395904541016, 0.35670343041419983, 0.14409542083740234, 0.10100552439689636, 0.08487606793642044, 0.13040627539157867, 0.016029173508286476, 0.8485840559005737, 0.00025437588919885457, 0.005795144941657782, 0.04171301797032356, 0.01816706359386444, 0.023878958076238632, 0.06161446124315262, 0.03855045884847641, 0.7387784123420715, 0.09405890107154846, 0.08631721138954163, 0.04228964075446129, 0.02116079069674015, 0.7500230669975281, 0.11371808499097824, 0.023954015225172043, 0.012400222942233086, 0.06551380455493927, 0.013204333372414112, 0.23298710584640503, 0.0442780926823616, 0.18023374676704407, 0.39033764600753784, 0.15216201543807983, 0.0157538540661335, 0.23106522858142853, 0.043453510850667953, 0.004616609774529934, 0.6806238889694214, 0.024491505697369576, 0.16215500235557556, 0.3109171688556671, 0.08726532757282257, 0.0567641407251358, 0.20116092264652252, 0.021191192790865898, 0.15089541673660278, 0.009677311405539513, 0.02905411086976528, 0.1856030523777008, 0.02545810304582119, 0.2548670768737793, 0.5049530863761902, 0.8404961228370667, 0.00544972438365221, 0.10075797140598297, 0.023625794798135757, 0.02966384030878544, 0.09238395094871521, 0.005574577488005161, 0.8994874358177185, 0.0025305647868663073, 0.08613105118274689, 0.007408318109810352, 0.016388097777962685, 0.6102133989334106, 0.22546729445457458, 0.05440249666571617, 0.009638187475502491, 0.18969540297985077, 0.0033210234250873327, 0.14771334826946259, 0.4071141481399536, 0.014403133653104305, 0.16146670281887054, 0.06660095602273941, 0.46672022342681885, 0.08297954499721527, 0.06916407495737076, 0.052862972021102905, 0.0012428145855665207, 0.32243812084198, 0.004624426364898682, 0.26578694581985474, 0.008298974484205246, 0.6999918222427368, 0.0003348892496433109, 0.0009628066327422857, 0.02461959235370159, 0.02424863539636135, 0.14022400975227356, 0.01197799015790224, 0.631028950214386, 0.030519835650920868, 0.0618131197988987, 0.10017195343971252, 0.028795737773180008, 0.9528400897979736, 0.010784818790853024, 0.007579255849123001, 0.040438078343868256, 0.21751153469085693, 0.13084693253040314, 0.07010886073112488, 0.39270272850990295, 0.02861833944916725, 0.043959714472293854, 0.07583657652139664, 0.002480359049513936, 0.003043184755370021, 0.9442118406295776, 0.00043193588498979807, 0.008926674723625183, 0.03412948176264763, 0.006786629091948271, 0.010763566009700298, 0.6063475608825684, 0.05120168626308441, 0.001420192769728601, 0.022723084315657616, 0.07037428766489029, 0.16952615976333618, 0.06764601916074753, 0.2155996412038803, 0.6050540208816528, 0.017202716320753098, 0.07826800644397736, 0.0004641542327590287, 0.03811866417527199, 0.045255038887262344, 0.06266649812459946, 0.14676734805107117, 0.024194568395614624, 0.011456085368990898, 0.28711050748825073, 0.22346694767475128, 0.1585409790277481, 0.08579850941896439, 0.05752153694629669, 0.4822746217250824, 0.4602069854736328, 0.3912813365459442, 0.020710710436105728, 0.008497613482177258, 0.308225154876709, 0.042914725840091705, 0.20309829711914062, 0.025270624086260796, 0.03584539145231247, 0.4624446630477905, 0.06643377989530563, 0.012641246430575848, 0.3970867097377777, 0.025527004152536392, 0.2753038704395294, 0.059067677706480026, 0.10659962147474289, 0.14181892573833466, 0.015773354098200798, 0.014445566572248936, 0.2796827554702759, 0.10730117559432983, 0.26391610503196716, 0.06010951101779938, 0.00035358534660190344, 0.17799486219882965, 0.4436788856983185, 0.05190632864832878, 0.0020507951267063618, 0.0037727949675172567, 0.04013942554593086, 0.02185887284576893, 0.7686777710914612, 0.06958278268575668, 0.06320403516292572, 0.011979595758020878, 0.020769819617271423, 0.12174735218286514, 0.11648271977901459, 0.1541648507118225, 0.3135135769844055, 0.06766923516988754, 0.0484977550804615, 0.17791810631752014, 0.24446047842502594, 0.06381533294916153, 0.003309538820758462, 0.007429450750350952, 0.014215552248060703, 0.6667638421058655, 0.11650446802377701, 0.08379003405570984, 0.3658205270767212, 0.0029808711260557175, 0.34665778279304504, 0.002930772490799427, 0.07449673116207123, 0.006838469300419092, 0.7482141256332397, 0.030724400654435158, 0.1857702136039734, 0.0063322242349386215, 0.028925899416208267, 0.007285199593752623, 0.2823866605758667, 0.3876245319843292, 0.01810753345489502, 0.10595178604125977, 0.13178260624408722, 0.003991445526480675, 0.06285715848207474, 0.03301244601607323, 0.025181084871292114, 0.8483874201774597, 0.07416579872369766, 0.01925339177250862, 0.03851975128054619, 0.07500603795051575, 0.15201067924499512, 0.03652114048600197, 0.4966201186180115, 0.019974496215581894, 0.12213608622550964, 0.05921467766165733, 0.6768291592597961, 0.08164742588996887, 0.01688949204981327, 0.004685328342020512, 0.21994268894195557, 0.7944817543029785, 0.06907851994037628, 0.005789362825453281, 0.0006695181946270168, 0.1300046741962433, 0.08150003105401993, 0.08883987367153168, 0.28653186559677124, 0.03840417042374611, 0.1737377643585205, 0.026590293273329735, 0.21891345083713531, 0.0854782983660698, 0.35607782006263733, 0.6439030170440674, 0.21423007547855377, 0.1210203692317009, 0.1572892665863037, 0.02855498716235161, 0.42023876309394836, 0.035659901797771454, 0.011029533110558987, 0.011976854875683784, 0.04297572746872902, 0.018105123192071915, 0.000858135346788913, 0.005922666285187006, 0.8815808296203613, 0.050561029464006424, 0.8882192969322205, 0.019860105589032173, 0.0006432896479964256, 0.0013333640526980162, 0.08631777763366699, 0.0014035410713404417, 0.002222273498773575, 0.8275185227394104, 0.035868436098098755, 0.12193483114242554, 0.014664320275187492, 0.0210061464458704, 0.03418580815196037, 0.012027712538838387, 0.2788735330104828, 0.046823374927043915, 0.6071115136146545, 0.013757678680121899, 0.0794193297624588, 0.5678536891937256, 0.002391040325164795, 0.17851875722408295, 0.10612540692090988, 0.05186718329787254, 0.029205983504652977, 0.12029314786195755, 0.08939290046691895, 0.0008067950839176774, 0.6787567138671875, 0.0791466012597084, 0.002420385368168354, 0.6521174907684326, 0.02687930129468441, 0.1961473822593689, 0.12484783679246902, 0.6121159195899963, 0.025271324440836906, 0.006872954312711954, 0.20254068076610565, 0.05011969804763794, 0.0012159842299297452, 0.05688691511750221, 0.04499141871929169, 0.6108229160308838, 0.09868759661912918, 0.029494358226656914, 0.049179207533597946, 0.011126220226287842, 0.10744373500347137, 0.02139657735824585, 0.07182665914297104, 0.12562274932861328, 0.022656172513961792, 0.5208980441093445, 0.08896735310554504, 0.13309840857982635, 0.07780676335096359, 0.030925234779715538, 0.004911520984023809, 0.08818713575601578, 0.279339998960495, 0.5147846937179565, 0.022905748337507248, 0.06534745544195175, 0.024491531774401665, 0.0008317604078911245, 0.10992176085710526, 0.027743831276893616, 0.23934368789196014, 0.004713308997452259, 0.16660161316394806, 0.3773697018623352, 0.07347217202186584, 0.03722195699810982, 0.01588369719684124, 0.784933865070343, 0.02112008072435856, 0.08770941942930222, 0.012610957026481628, 0.01156368013471365, 0.028931017965078354, 0.07182468473911285, 0.033004533499479294, 0.6087132692337036, 0.09182742983102798, 0.1357593834400177, 0.00214844336733222, 0.052118271589279175, 0.004593223333358765, 0.13177357614040375, 0.004580886103212833, 0.028070110827684402, 0.10326486825942993, 0.04590632766485214, 0.6863532066345215, 0.19178415834903717, 0.21585607528686523, 0.015016380697488785, 0.2271447330713272, 0.3249973952770233, 0.02519727684557438, 0.08319901674985886, 0.2914731502532959, 0.13013675808906555, 0.18310421705245972, 0.20343376696109772, 0.034961290657520294, 0.045084573328495026, 0.028613490983843803, 0.0002951248607132584, 0.1814427524805069, 0.07419438660144806, 0.1593674123287201, 0.461044043302536, 0.10612689703702927, 0.017117241397500038, 0.00041317479917779565, 0.35791027545928955, 0.26410654187202454, 0.12681515514850616, 0.05391867831349373, 0.12060479074716568, 0.012179560959339142, 0.052079685032367706, 0.01237551961094141, 0.12456213682889938, 0.006004759110510349, 0.5364007353782654, 0.24081280827522278, 0.06242752820253372, 0.029767494648694992, 0.05495348572731018, 0.0768480896949768, 0.31303367018699646, 0.018896425142884254, 0.04891767352819443, 0.04315801337361336, 0.11878316104412079, 0.3254603445529938, 0.1226874366402626, 0.557087779045105, 0.06795921921730042, 0.06495217233896255, 0.06895285099744797, 0.05972253158688545, 0.058624304831027985, 0.11616245657205582, 0.8052670359611511, 0.01973132975399494, 0.058820996433496475, 0.2088148444890976, 0.751555323600769, 0.0038036368787288666, 0.0033221638295799494, 0.03249942883849144, 0.15790805220603943, 0.23776336014270782, 0.3024125397205353, 0.13448645174503326, 0.08343729376792908, 0.004171287175267935, 0.0533832311630249, 0.026437409222126007, 0.5920407176017761, 0.039916783571243286, 0.13023637235164642, 0.04348203167319298, 0.06207723915576935, 0.13219375908374786, 0.10434321314096451, 0.04826969653367996, 0.678669273853302, 0.016396790742874146, 0.15230602025985718, 0.05214023217558861, 0.013552455231547356, 0.1367262452840805, 0.5065814256668091, 0.2532239556312561, 0.03010914847254753, 0.007677499204874039, 0.0037445875350385904, 0.08501031994819641, 0.18097816407680511, 0.3407677114009857, 0.35742396116256714, 0.0198790542781353, 0.012195487506687641, 0.014789407141506672, 0.1895967572927475, 0.6587305068969727, 0.13688799738883972, 0.07603904604911804, 0.12515969574451447, 0.18233409523963928, 0.09969241172075272, 0.09425068646669388, 0.026918403804302216, 0.36263659596443176, 0.033085692673921585, 0.0018005118472501636, 0.5807343125343323, 0.010803070850670338, 0.0063248747028410435, 0.021005971357226372, 0.34422093629837036, 0.03513306379318237, 0.0284869447350502, 0.0007067372207529843, 0.6029011607170105, 0.07817600667476654, 0.05539732426404953, 0.01745097152888775, 0.18222947418689728, 0.03468448668718338, 0.03378134220838547, 0.002230843296274543, 0.05277537927031517, 0.009624496102333069, 0.8800995945930481, 0.021479833871126175, 0.12612362205982208, 0.009416979737579823, 0.0243914183229208, 0.7946351766586304, 0.045424554497003555, 0.8076725006103516, 0.011655083857476711, 0.02668270282447338, 0.07409657537937164, 0.07037686556577682, 0.009472855366766453, 0.7327627539634705, 0.0008043238776735961, 0.14943864941596985, 0.11504197865724564, 0.0019398400327190757, 0.20902839303016663, 0.017010439187288284, 0.0012042787857353687, 0.3776489198207855, 0.2670918405056, 0.12799763679504395, 0.007375136483460665, 0.45826026797294617, 0.11324883997440338, 0.06537440419197083, 0.30670762062072754, 0.04900415614247322, 0.0668477788567543, 0.031775981187820435, 0.00023285667703021318, 0.8788190484046936, 0.0013792280806228518, 0.009457563981413841, 0.011499537155032158, 0.004964081570506096, 0.8574623465538025, 0.007087605074048042, 0.0070324488915503025, 0.05261926352977753, 0.057693660259246826, 0.013127237558364868, 0.05605226010084152, 0.0011260499013587832, 0.002652473049238324, 0.03578336164355278, 0.004404106177389622, 0.05372508987784386, 0.8462640047073364, 0.011777890846133232, 0.0011930851032957435, 0.9861000776290894, 0.0009177577449008822, 0.007882322184741497, 0.3515353202819824, 0.16260337829589844, 0.472086101770401, 0.0058507961221039295, 0.014825480058789253, 0.03696352615952492, 0.6273281574249268, 0.0027046483010053635, 0.19077788293361664, 0.12736889719963074, 0.03069555014371872, 0.5055971145629883, 0.2811281383037567, 0.12234865128993988, 0.006515681743621826, 0.04424717649817467, 0.008596736006438732, 0.0008547187317162752, 0.3898758292198181, 0.18562892079353333, 0.4146921634674072, 0.009802565909922123, 0.034392811357975006, 0.5751112699508667, 0.2154567390680313, 0.14107120037078857, 0.03392615169286728, 0.010243086144328117, 0.0039491415955126286, 0.3591250777244568, 0.03949141874909401, 0.43422049283981323, 0.15296754240989685, 0.0737980306148529, 0.09713204205036163, 0.03782476857304573, 0.07931026816368103, 0.005453056655824184, 0.021710773929953575, 0.597967803478241, 0.08680082112550735, 0.20362181961536407, 0.7104308605194092, 0.00413171760737896, 0.004625726956874132, 0.024116655811667442, 0.05303867533802986, 0.14110134541988373, 0.2028423249721527, 0.019425228238105774, 0.14302922785282135, 0.4044888913631439, 0.0022451267577707767, 0.08687664568424225, 0.004243266303092241, 0.03431834653019905, 0.4318826198577881, 0.31422504782676697, 0.2059100866317749, 0.009379851631820202, 0.0035113664343953133, 0.025545191019773483, 0.759713351726532, 0.10882309824228287, 0.08825234323740005, 0.014133249409496784, 0.20961961150169373, 0.08024784922599792, 0.39777225255966187, 0.03875453397631645, 0.2652026116847992, 0.008406314998865128, 0.017071843147277832, 0.6767069697380066, 0.0011497364612296224, 0.07316504418849945, 0.22691616415977478, 0.005017031915485859, 0.5714402794837952, 0.09408406913280487, 0.10538792610168457, 0.07822690904140472, 0.07978879660367966, 0.04945105314254761, 0.02162821777164936, 0.2926316261291504, 0.7073608636856079, 0.14564771950244904, 0.08679904043674469, 0.12155412137508392, 0.0821443423628807, 0.37780633568763733, 0.16457682847976685, 0.004433046095073223, 0.01702289655804634, 0.04934404045343399, 0.017543599009513855, 0.6461251974105835, 0.12570779025554657, 0.16126452386379242, 0.027763113379478455, 0.04372354969382286, 0.1885642558336258, 0.008738519623875618, 0.48857301473617554, 0.2013264149427414, 0.04130936414003372, 0.17863227427005768, 0.1287960410118103, 0.2233591228723526, 0.12187869846820831, 0.10438884794712067, 0.08222194015979767, 0.09755995124578476, 0.06316979974508286, 0.1284896284341812, 0.7537035346031189, 0.06167738139629364, 0.020273856818675995, 0.02753349207341671, 0.008292509242892265, 0.0400661863386631, 0.011082137003540993, 0.42298272252082825, 0.502036452293396, 0.02383442223072052, 0.0020931046456098557, 0.02356836013495922, 0.32878488302230835, 0.051092687994241714, 0.5291996598243713, 0.06526300311088562, 0.5446537137031555, 0.1160774901509285, 0.08578844368457794, 0.19834288954734802, 0.05513337627053261, 0.17231296002864838, 0.18201296031475067, 0.4326619505882263, 0.0008017613436095417, 0.015877503901720047, 0.004442546516656876, 0.11592680215835571, 0.07597017288208008, 0.42859259247779846, 0.555380642414093, 0.016008704900741577, 0.3280647397041321, 0.06059270724654198, 0.19122004508972168, 0.10836084187030792, 0.17687802016735077, 0.1348741054534912, 0.036461662501096725, 0.023833176121115685, 0.6241815686225891, 0.23065561056137085, 0.0235546063631773, 0.041878294199705124, 0.002290460979565978, 0.017209410667419434, 0.21494969725608826, 0.5327303409576416, 0.12181158363819122, 0.005844641011208296, 0.0772244930267334, 0.0320587232708931, 0.015392817556858063, 0.7106891870498657, 0.021298902109265327, 0.20727300643920898, 0.0504232756793499, 0.002517761429771781, 0.007780109997838736, 0.02371601201593876, 0.09373828768730164, 0.06927177309989929, 0.010619670152664185, 0.48261335492134094, 0.04236610606312752, 0.2749105989933014, 0.002814400242641568, 0.13441012799739838, 0.06471453607082367, 0.23982521891593933, 0.00024905329337343574, 0.01461549662053585, 0.0012452665250748396, 0.5449417233467102, 0.5870202779769897, 0.008395538665354252, 0.33658358454704285, 0.023197438567876816, 0.044802483171224594, 0.13268183171749115, 0.18401901423931122, 0.05695218965411186, 0.007365135941654444, 0.5363423228263855, 0.060744140297174454, 0.021840179339051247, 0.10596023499965668, 0.08735880255699158, 0.38855767250061035, 0.11451350152492523, 0.12790822982788086, 0.08974555879831314, 0.024886853992938995, 0.06107046827673912, 0.0071328263729810715, 0.9320934414863586, 0.01052941009402275, 0.01701122522354126, 0.002179474802687764, 0.028559610247612, 0.0024908282794058323, 0.03334071859717369, 0.21536700427532196, 0.6333259344100952, 0.11792940646409988, 0.0775352343916893, 0.012313623912632465, 0.2796275019645691, 0.6144633293151855, 0.016034774482250214, 0.07363694161176682, 0.03286146745085716, 0.03878386691212654, 0.013993639498949051, 0.1617916226387024, 0.620070219039917, 0.05890955030918121, 0.15400776267051697, 5.527916437131353e-05, 0.14903263747692108, 0.5231620073318481, 0.08087342232465744, 0.09087894856929779, 0.0019900500774383545, 0.004755681846290827, 0.16452571749687195, 0.07416776567697525, 0.11808700859546661, 0.2166593223810196, 0.2348024845123291, 0.18146131932735443, 0.005575627088546753, 0.7202409505844116, 0.05774809420108795, 0.07076237350702286, 0.04195449873805046, 0.09405571967363358, 0.015220086090266705, 0.1481882631778717, 0.0484510101377964, 0.01351911947131157, 0.4829529821872711, 0.05891887843608856, 0.2405899167060852, 0.007371610030531883, 0.012063573114573956, 0.11309202015399933, 0.004519861191511154, 0.02667354606091976, 0.3919547200202942, 0.4115619957447052, 0.04016947001218796, 0.4436289966106415, 0.257624089717865, 0.032951291650533676, 0.027423454448580742, 0.09801795333623886, 0.14035308361053467, 0.921347975730896, 0.02978886291384697, 0.04058769345283508, 0.00826486200094223, 0.2864229083061218, 0.17482545971870422, 0.159615620970726, 0.16959159076213837, 0.0028452607803046703, 0.0007727868505753577, 0.04794791340827942, 0.15799978375434875, 0.049243029206991196, 0.5875791907310486, 0.013814435340464115, 0.3493577539920807, 0.04147903248667717, 0.08170480281114578, 0.13640375435352325, 0.18540237843990326, 0.4844475984573364, 0.011804948560893536, 0.058741748332977295, 0.6125598549842834, 0.13826847076416016, 0.10088670253753662, 0.009937271475791931, 0.03339033201336861, 0.10496070981025696, 0.09073872864246368, 0.1868104487657547, 0.05478662997484207, 0.0856919065117836, 0.10218513011932373, 0.47976022958755493, 0.15836811065673828, 0.05584350973367691, 0.0911211147904396, 0.23406098783016205, 0.2728145122528076, 0.12043781578540802, 0.040613461285829544, 0.026770735159516335, 0.15509560704231262, 0.5648559331893921, 0.06311426311731339, 0.08036772161722183, 0.04945991188287735, 0.08645281195640564, 0.0006493236869573593, 0.0069542271085083485, 0.00101319863460958, 0.8572121262550354, 0.03965291008353233, 0.0782465711236, 0.013954509049654007, 0.0023948331363499165, 0.0005987082840874791, 0.015487772412598133, 0.1497151255607605, 0.026332873851060867, 0.005265110172331333, 0.005601960234344006, 0.010376441292464733, 0.7728288173675537, 0.014389348216354847, 0.11777801066637039, 0.16298529505729675, 0.6756333708763123, 0.012806597165763378, 0.03077852353453636, 0.20379523932933807, 0.5230019688606262, 0.09754275530576706, 0.17506234347820282, 0.0006024309550411999, 0.6033567190170288, 0.078165203332901, 0.12036263942718506, 0.06733822822570801, 0.05684439092874527, 0.0704808235168457, 0.0034535271115601063, 0.007969335652887821, 0.24410687386989594, 0.0003269470762461424, 0.6736336350440979, 0.07393091171979904, 0.08533822000026703, 0.14427761733531952, 0.07865770161151886, 0.1433078646659851, 0.0015085038030520082, 0.2162548005580902, 0.33063173294067383, 0.009097223170101643, 0.03069615364074707, 0.1921021044254303, 0.038230665028095245, 0.6025375723838806, 0.11770579218864441, 0.009543713182210922, 0.09357844293117523, 0.5804296731948853, 0.06683769822120667, 0.06553603708744049, 0.090663842856884, 0.046435508877038956, 0.03653153032064438, 0.019977739080786705, 0.970102071762085, 0.002941348822787404, 0.01696931943297386, 0.007205047644674778, 0.0027804544661194086, 0.0009915217524394393, 0.23002097010612488, 0.3049534261226654, 0.46402010321617126, 0.07793717831373215, 0.008162057027220726, 0.3969270884990692, 0.40458688139915466, 0.07986258715391159, 0.02348160929977894, 0.008999190293252468, 0.8141273260116577, 0.026518873870372772, 0.004052369389683008, 0.006425000261515379, 0.08961405605077744, 0.05927377566695213, 0.7797876596450806, 0.005389613565057516, 0.063388891518116, 0.023481380194425583, 0.12795592844486237, 0.2481323927640915, 0.16388055682182312, 0.01401523593813181, 0.18279601633548737, 0.24085496366024017, 0.08859787881374359, 0.06173412501811981, 0.011796723119914532, 0.18439185619354248, 0.047368377447128296, 0.1943736970424652, 0.4251357316970825, 0.1335752010345459, 0.0033575287088751793, 0.03938470780849457, 0.22852452099323273, 0.11601010710000992, 0.6004652976989746, 0.015567447058856487, 0.07747320085763931, 0.06155660003423691, 0.007105071097612381, 0.12491273880004883, 0.7289368510246277, 0.06689955294132233, 0.03880949318408966, 0.20097848773002625, 0.288714200258255, 0.3743619918823242, 0.030221035704016685, 0.2467217594385147, 0.23048831522464752, 0.5157711505889893, 0.006972398143261671, 0.0726931169629097, 0.268350750207901, 0.018451392650604248, 0.11872569471597672, 0.4599613547325134, 0.059899892657995224, 0.0019180241506546736, 0.09471483528614044, 0.14052967727184296, 0.40770572423934937, 0.044615041464567184, 0.2356901466846466, 0.009718297980725765, 0.055361732840538025, 0.011655101552605629, 0.0011339945485815406, 0.0206954013556242, 0.5334413647651672, 0.29586949944496155, 0.13043515384197235, 0.01840163953602314, 0.6763980984687805, 0.16270333528518677, 0.014658227562904358, 0.0060603260062634945, 0.14016370475292206, 0.09198189526796341, 0.08225633203983307, 0.08355764299631119, 0.010136500932276249, 0.6234632730484009, 0.07842089980840683, 0.030204033479094505, 3.77646938432008e-05, 0.04208497330546379, 0.000823270296677947, 0.4546566903591156, 0.07358072698116302, 0.13694988191127777, 0.2918682098388672, 0.21637682616710663, 0.0008482739794999361, 0.3646908402442932, 0.09208237379789352, 0.17653027176856995, 0.01415278110653162, 0.017166387289762497, 0.11815563589334488, 0.21698327362537384, 0.052268046885728836, 0.1421251893043518, 0.12296480685472488, 0.20459076762199402, 0.11034365743398666, 0.15076793730258942, 0.17298950254917145, 0.019438015297055244, 0.032841410487890244, 0.6350045800209045, 0.12059520930051804, 0.019128773361444473, 0.04918581247329712, 0.17825867235660553, 0.27114585041999817, 0.1448877602815628, 0.08183126151561737, 0.14073817431926727, 0.13394790887832642, 0.12792406976222992, 0.000777237000875175, 0.8549607396125793, 0.01627625711262226, 0.10442672669887543, 0.18379464745521545, 0.041644494980573654, 0.026501042768359184, 0.03348686173558235, 0.5919016599655151, 0.014557545073330402, 0.0036957236006855965, 0.00409867987036705, 0.6482658982276917, 0.0002594101242721081, 0.347350150346756, 0.22652384638786316, 0.5368507504463196, 0.029502401128411293, 0.05168727785348892, 0.0320286899805069, 0.12341063469648361, 0.4024503231048584, 0.18525972962379456, 0.01599583402276039, 0.0077242241241037846, 0.3885223865509033, 0.21408221125602722, 0.017267100512981415, 0.03917410969734192, 0.7262787222862244, 0.0031982248183339834, 0.46441617608070374, 0.08290988951921463, 0.1302458941936493, 0.025335974991321564, 0.25147128105163574, 0.012538575567305088, 0.03308151662349701, 0.07802733778953552, 0.15748462080955505, 0.6572504639625549, 0.10629259049892426, 0.0009532967233099043, 0.09341800212860107, 0.1778683364391327, 0.24940979480743408, 0.09059061855077744, 0.368559867143631, 0.003855527378618717, 0.009995811618864536, 0.006283082067966461, 0.14519764482975006, 0.2031717598438263, 0.039939187467098236, 0.5290467143058777, 0.02570798248052597, 0.05692481994628906, 0.09068724513053894, 0.8595646619796753, 0.015825118869543076, 0.0208146870136261, 0.013088304549455643, 0.1911468505859375, 0.1247032880783081, 0.09016522765159607, 0.10036640614271164, 0.20940309762954712, 0.1659086048603058, 0.06501282006502151, 0.0533093698322773, 0.23118634521961212, 0.588588297367096, 0.03582603111863136, 0.06873809546232224, 0.07565030455589294, 0.006669124588370323, 0.4411189556121826, 0.017531074583530426, 0.4925021827220917, 0.04218151047825813, 0.5557538866996765, 0.0043695904314517975, 0.4264792799949646, 0.0013235688675194979, 0.012057168409228325, 0.37619706988334656, 0.06085304543375969, 0.5407411456108093, 0.022189686074852943, 0.0052482192404568195, 0.005330222658813, 0.08542414009571075, 0.0028349754866212606, 0.32530757784843445, 0.5642655491828918, 0.01158591266721487, 0.02403409406542778, 0.08526824414730072, 0.14898653328418732, 0.01589852198958397, 0.10905392467975616, 0.5975608229637146, 0.019252115860581398, 0.2533908188343048, 0.42092517018318176, 0.062080346047878265, 0.015483645722270012, 0.2306998372077942, 0.017427198588848114, 0.7125099897384644, 0.13459132611751556, 0.05652225390076637, 0.06073395535349846, 0.03033645823597908, 0.005371445324271917, 0.17857778072357178, 0.0815214216709137, 0.14553521573543549, 0.43675360083580017, 0.10721570998430252, 0.017113087698817253, 0.018543288111686707, 0.014745859429240227, 0.02854360267519951, 0.36220234632492065, 0.01766984909772873, 0.1090921089053154, 0.06997023522853851, 0.4072929620742798, 0.005259586963802576, 0.03579138591885567, 0.033040277659893036, 0.931164026260376, 0.09727822989225388, 0.005665121600031853, 0.29693329334259033, 0.4546259939670563, 0.06709122657775879, 0.07138053327798843, 0.007040936499834061, 0.2230536788702011, 0.029666703194379807, 0.20931628346443176, 0.08487672358751297, 0.0052301944233477116, 0.4478435218334198, 0.46971946954727173, 7.473242931155255e-06, 0.17350627481937408, 0.0016740064602345228, 0.3211103081703186, 0.0339808352291584, 0.25722822546958923, 0.18969087302684784, 0.004796838387846947, 0.45649850368499756, 0.09178544580936432, 0.6341123580932617, 0.0453619547188282, 0.07436344772577286, 0.177024707198143, 0.002990621840581298, 0.06617064774036407, 0.7788944840431213, 0.01145672332495451, 0.01249824371188879, 0.07801638543605804, 0.11915643513202667, 0.3017618954181671, 0.04027585685253143, 0.003359331749379635, 0.1268237978219986, 0.5277401804924011, 0.01116516999900341, 0.03818603232502937, 0.8944797515869141, 0.03208547458052635, 0.024085689336061478, 0.080020010471344, 0.2733379900455475, 0.08431204408407211, 0.06355740875005722, 0.13474346697330475, 0.23942798376083374, 0.09793778508901596, 0.026663536205887794, 0.08126448094844818, 0.024192506447434425, 0.5365497469902039, 0.06780065596103668, 0.17244865000247955, 0.09755975008010864, 0.004853910766541958, 0.015332194045186043, 0.013412345200777054, 0.02196613699197769, 0.681189775466919, 0.03958694636821747, 0.03602857142686844, 0.18305113911628723, 0.024771781638264656, 0.028759853914380074, 0.08190751820802689, 0.3018076717853546, 0.06455596536397934, 0.007377824746072292, 0.03777719661593437, 0.3960798978805542, 0.08183920383453369, 0.0906270295381546, 0.04486030340194702, 0.32681602239608765, 0.11680915951728821, 0.2724308669567108, 0.05743129551410675, 0.04352296516299248, 0.04750526323914528, 0.021794907748699188, 0.06307103484869003, 0.015224043279886246, 0.15034320950508118, 0.13479526340961456, 0.5534332990646362, 0.04150749742984772, 0.019805138930678368, 0.5379152894020081, 0.049613021314144135, 0.00788193754851818, 0.008259839378297329, 0.3233214020729065, 0.07304289191961288], \"Term\": [\"accord\", \"accord\", \"accord\", \"accord\", \"accord\", \"accord\", \"accord\", \"accord\", \"account\", \"account\", \"account\", \"account\", \"account\", \"account\", \"account\", \"accumul\", \"accumul\", \"accumul\", \"accumul\", \"accumul\", \"acid\", \"acid\", \"acid\", \"acid\", \"acid\", \"across\", \"across\", \"across\", \"across\", \"across\", \"across\", \"across\", \"across\", \"acut\", \"acut\", \"acut\", \"acut\", \"acut\", \"acut\", \"acut\", \"acut\", \"adapt\", \"adapt\", \"adapt\", \"adapt\", \"adapt\", \"adapt\", \"adapt\", \"address\", \"address\", \"address\", \"address\", \"address\", \"address\", \"address\", \"address\", \"administr\", \"administr\", \"administr\", \"administr\", \"administr\", \"adult\", \"adult\", \"adult\", \"adult\", \"adult\", \"adult\", \"advantag\", \"advantag\", \"advantag\", \"advantag\", \"advantag\", \"advantag\", \"advantag\", \"affect\", \"affect\", \"affect\", \"affect\", \"affect\", \"affect\", \"affect\", \"affect\", \"agent\", \"agent\", \"agent\", \"agent\", \"agent\", \"agent\", \"agent\", \"agent\", \"alon\", \"alon\", \"alon\", \"alon\", \"alon\", \"alon\", \"alon\", \"alon\", \"amino\", \"amino\", \"amino\", \"amino\", \"amino\", \"amount\", \"amount\", \"amount\", \"amount\", \"amount\", \"amount\", \"amount\", \"amplifi\", \"amplifi\", \"amplifi\", \"amplifi\", \"amplifi\", \"amplifi\", \"antibodi\", \"antibodi\", \"antibodi\", \"antibodi\", \"antibodi\", \"antigen\", \"antigen\", \"antigen\", \"antigen\", \"antigen\", \"antigen\", \"antivir\", \"antivir\", \"antivir\", \"antivir\", \"approach\", \"approach\", \"approach\", \"approach\", \"approach\", \"approach\", \"approach\", \"approv\", \"approv\", \"approv\", \"approv\", \"approv\", \"approv\", \"articl\", \"articl\", \"articl\", \"articl\", \"articl\", \"articl\", \"articl\", \"assay\", \"assay\", \"assay\", \"assay\", \"assay\", \"assum\", \"assum\", \"assum\", \"assum\", \"assum\", \"assum\", \"assum\", \"bacteri\", \"bacteri\", \"bacteri\", \"bacteri\", \"bacteri\", \"bacteri\", \"bacteria\", \"bacteria\", \"bacteria\", \"bacteria\", \"bacteria\", \"bacteria\", \"belong\", \"belong\", \"belong\", \"belong\", \"belong\", \"belong\", \"belong\", \"belong\", \"bind\", \"bind\", \"bind\", \"bind\", \"bind\", \"block\", \"block\", \"block\", \"block\", \"block\", \"block\", \"block\", \"blood\", \"blood\", \"blood\", \"blood\", \"blood\", \"blood\", \"bodi\", \"bodi\", \"bodi\", \"bodi\", \"bodi\", \"bodi\", \"bodi\", \"bodi\", \"bovin\", \"bovin\", \"bovin\", \"bovin\", \"bovin\", \"bovin\", \"briefli\", \"briefli\", \"briefli\", \"briefli\", \"briefli\", \"briefli\", \"briefli\", \"briefli\", \"care\", \"care\", \"care\", \"care\", \"care\", \"cell\", \"cell\", \"cell\", \"cell\", \"cell\", \"cell\", \"cellular\", \"cellular\", \"cellular\", \"cellular\", \"centrifug\", \"centrifug\", \"centrifug\", \"centrifug\", \"challeng\", \"challeng\", \"challeng\", \"challeng\", \"challeng\", \"challeng\", \"challeng\", \"chemic\", \"chemic\", \"chemic\", \"chemic\", \"chemic\", \"child\", \"child\", \"child\", \"child\", \"chronic\", \"chronic\", \"chronic\", \"chronic\", \"circul\", \"circul\", \"circul\", \"circul\", \"circul\", \"circul\", \"circul\", \"clone\", \"clone\", \"clone\", \"clone\", \"cluster\", \"cluster\", \"cluster\", \"cluster\", \"cluster\", \"cluster\", \"commerci\", \"commerci\", \"commerci\", \"commerci\", \"commerci\", \"commerci\", \"commonli\", \"commonli\", \"commonli\", \"commonli\", \"commonli\", \"commonli\", \"commonli\", \"commun\", \"commun\", \"commun\", \"commun\", \"commun\", \"commun\", \"complex\", \"complex\", \"complex\", \"complex\", \"complex\", \"complex\", \"complic\", \"complic\", \"complic\", \"complic\", \"complic\", \"complic\", \"complic\", \"complic\", \"concentr\", \"concentr\", \"concentr\", \"concentr\", \"concentr\", \"concern\", \"concern\", \"concern\", \"concern\", \"concern\", \"concern\", \"concern\", \"concern\", \"condit\", \"condit\", \"condit\", \"condit\", \"condit\", \"condit\", \"condit\", \"construct\", \"construct\", \"construct\", \"construct\", \"construct\", \"construct\", \"correl\", \"correl\", \"correl\", \"correl\", \"correl\", \"correl\", \"correl\", \"cost\", \"cost\", \"cost\", \"cost\", \"cost\", \"cost\", \"countri\", \"countri\", \"countri\", \"countri\", \"damag\", \"damag\", \"damag\", \"damag\", \"damag\", \"databa\", \"databa\", \"databa\", \"databa\", \"databa\", \"densiti\", \"densiti\", \"densiti\", \"densiti\", \"densiti\", \"densiti\", \"densiti\", \"densiti\", \"detect\", \"detect\", \"detect\", \"detect\", \"detect\", \"detect\", \"detect\", \"detect\", \"determin\", \"determin\", \"determin\", \"determin\", \"determin\", \"determin\", \"determin\", \"determin\", \"diagnosi\", \"diagnosi\", \"diagnosi\", \"diagnosi\", \"diagnost\", \"diagnost\", \"diagnost\", \"diagnost\", \"display\", \"display\", \"display\", \"display\", \"display\", \"display\", \"display\", \"display\", \"drug\", \"drug\", \"drug\", \"drug\", \"drug\", \"drug\", \"dynam\", \"dynam\", \"dynam\", \"dynam\", \"dynam\", \"efficaci\", \"efficaci\", \"efficaci\", \"efficaci\", \"efficaci\", \"efficaci\", \"efficaci\", \"effort\", \"effort\", \"effort\", \"effort\", \"effort\", \"effort\", \"effort\", \"effort\", \"emerg\", \"emerg\", \"emerg\", \"emerg\", \"emerg\", \"emerg\", \"emerg\", \"encod\", \"encod\", \"encod\", \"encod\", \"enhanc\", \"enhanc\", \"enhanc\", \"enhanc\", \"enhanc\", \"enhanc\", \"enhanc\", \"enhanc\", \"ensur\", \"ensur\", \"ensur\", \"ensur\", \"ensur\", \"ensur\", \"ensur\", \"entri\", \"entri\", \"entri\", \"entri\", \"entri\", \"entri\", \"envelop\", \"envelop\", \"envelop\", \"envelop\", \"envelop\", \"envelop\", \"envelop\", \"environ\", \"environ\", \"environ\", \"environ\", \"environ\", \"environ\", \"environ\", \"epidem\", \"epidem\", \"epidem\", \"epidem\", \"epidemiolog\", \"epidemiolog\", \"epidemiolog\", \"evalu\", \"evalu\", \"evalu\", \"evalu\", \"evalu\", \"evalu\", \"evalu\", \"evid\", \"evid\", \"evid\", \"evid\", \"evid\", \"evid\", \"evid\", \"express\", \"express\", \"express\", \"express\", \"express\", \"express\", \"express\", \"facil\", \"facil\", \"facil\", \"facil\", \"facil\", \"failur\", \"failur\", \"failur\", \"failur\", \"failur\", \"failur\", \"failur\", \"famili\", \"famili\", \"famili\", \"famili\", \"famili\", \"fever\", \"fever\", \"fever\", \"fever\", \"fever\", \"fever\", \"find\", \"find\", \"find\", \"find\", \"find\", \"find\", \"find\", \"find\", \"flow\", \"flow\", \"flow\", \"flow\", \"flow\", \"fluid\", \"fluid\", \"fluid\", \"fluid\", \"fluid\", \"fluoresc\", \"fluoresc\", \"fluoresc\", \"fluoresc\", \"fragment\", \"fragment\", \"fragment\", \"fragment\", \"fragment\", \"fragment\", \"frequenc\", \"frequenc\", \"frequenc\", \"frequenc\", \"frequenc\", \"frequenc\", \"frequenc\", \"frequenc\", \"frequent\", \"frequent\", \"frequent\", \"frequent\", \"frequent\", \"frequent\", \"frequent\", \"gene\", \"gene\", \"gene\", \"gene\", \"gene\", \"gene\", \"genet\", \"genet\", \"genet\", \"genet\", \"genet\", \"genet\", \"genet\", \"genom\", \"genom\", \"genom\", \"genom\", \"given\", \"given\", \"given\", \"given\", \"given\", \"given\", \"given\", \"given\", \"health\", \"health\", \"health\", \"health\", \"health\", \"health\", \"health\", \"healthi\", \"healthi\", \"healthi\", \"healthi\", \"healthi\", \"healthi\", \"healthi\", \"healthi\", \"hepat\", \"hepat\", \"hepat\", \"hepat\", \"hepat\", \"hepat\", \"hepat\", \"higher\", \"higher\", \"higher\", \"higher\", \"higher\", \"higher\", \"higher\", \"higher\", \"hospit\", \"hospit\", \"hospit\", \"host\", \"host\", \"host\", \"host\", \"host\", \"host\", \"host\", \"hour\", \"hour\", \"hour\", \"hour\", \"hour\", \"hour\", \"human\", \"human\", \"human\", \"human\", \"human\", \"human\", \"human\", \"human\", \"hypothesi\", \"hypothesi\", \"hypothesi\", \"hypothesi\", \"hypothesi\", \"hypothesi\", \"hypothesi\", \"ident\", \"ident\", \"ident\", \"ident\", \"ident\", \"ident\", \"ident\", \"ident\", \"identifi\", \"identifi\", \"identifi\", \"identifi\", \"identifi\", \"identifi\", \"identifi\", \"immun\", \"immun\", \"immun\", \"immun\", \"immun\", \"immun\", \"impact\", \"impact\", \"impact\", \"impact\", \"impact\", \"impact\", \"impact\", \"impact\", \"implement\", \"implement\", \"implement\", \"implement\", \"implement\", \"improv\", \"improv\", \"improv\", \"improv\", \"improv\", \"improv\", \"improv\", \"improv\", \"incub\", \"incub\", \"incub\", \"incub\", \"incub\", \"individu\", \"individu\", \"individu\", \"individu\", \"individu\", \"individu\", \"individu\", \"individu\", \"induc\", \"induc\", \"induc\", \"induc\", \"induc\", \"induct\", \"induct\", \"induct\", \"induct\", \"induct\", \"infecti\", \"infecti\", \"infecti\", \"infecti\", \"infecti\", \"infecti\", \"infecti\", \"infecti\", \"inflammatori\", \"inflammatori\", \"influenc\", \"influenc\", \"influenc\", \"influenc\", \"influenc\", \"influenc\", \"influenc\", \"influenc\", \"influenza\", \"influenza\", \"influenza\", \"influenza\", \"influenza\", \"influenza\", \"inhibit\", \"inhibit\", \"inhibit\", \"inhibit\", \"inhibit\", \"inhibit\", \"inhibit\", \"inhibitor\", \"inhibitor\", \"inhibitor\", \"inhibitor\", \"inocul\", \"inocul\", \"inocul\", \"inocul\", \"inocul\", \"inocul\", \"institut\", \"institut\", \"institut\", \"institut\", \"institut\", \"institut\", \"institut\", \"instruct\", \"instruct\", \"instruct\", \"instruct\", \"instruct\", \"instruct\", \"instruct\", \"interact\", \"interact\", \"interact\", \"interact\", \"interestingli\", \"interestingli\", \"interestingli\", \"interestingli\", \"interestingli\", \"interestingli\", \"interestingli\", \"interestingli\", \"interf\", \"interf\", \"interf\", \"interf\", \"interf\", \"interf\", \"interf\", \"interf\", \"intern\", \"intern\", \"intern\", \"intern\", \"intern\", \"intern\", \"intern\", \"interv\", \"interv\", \"interv\", \"interv\", \"interv\", \"interv\", \"interv\", \"isol\", \"isol\", \"isol\", \"isol\", \"isol\", \"isol\", \"isol\", \"isol\", \"issu\", \"issu\", \"issu\", \"issu\", \"issu\", \"issu\", \"issu\", \"issu\", \"knowledg\", \"knowledg\", \"knowledg\", \"knowledg\", \"knowledg\", \"knowledg\", \"knowledg\", \"knowledg\", \"label\", \"label\", \"label\", \"label\", \"label\", \"label\", \"laboratori\", \"laboratori\", \"laboratori\", \"laboratori\", \"laboratori\", \"laboratori\", \"larg\", \"larg\", \"larg\", \"larg\", \"larg\", \"larg\", \"larg\", \"larg\", \"larger\", \"larger\", \"larger\", \"larger\", \"larger\", \"larger\", \"larger\", \"larger\", \"lead\", \"lead\", \"lead\", \"lead\", \"lead\", \"lead\", \"lead\", \"lead\", \"length\", \"length\", \"length\", \"length\", \"length\", \"length\", \"live\", \"live\", \"live\", \"live\", \"live\", \"live\", \"live\", \"live\", \"loss\", \"loss\", \"loss\", \"loss\", \"loss\", \"loss\", \"loss\", \"lung\", \"lung\", \"lung\", \"lung\", \"manag\", \"manag\", \"manag\", \"manag\", \"manag\", \"mani\", \"mani\", \"mani\", \"mani\", \"mani\", \"mani\", \"mani\", \"mani\", \"manner\", \"manner\", \"manner\", \"manner\", \"manner\", \"manner\", \"manufactur\", \"manufactur\", \"manufactur\", \"manufactur\", \"manufactur\", \"maximum\", \"maximum\", \"maximum\", \"maximum\", \"maximum\", \"maximum\", \"maximum\", \"measur\", \"measur\", \"measur\", \"measur\", \"measur\", \"measur\", \"measur\", \"medicin\", \"medicin\", \"medicin\", \"medicin\", \"middl\", \"middl\", \"middl\", \"middl\", \"middl\", \"middl\", \"middl\", \"middl\", \"mild\", \"mild\", \"mild\", \"mild\", \"mild\", \"mild\", \"mild\", \"million\", \"million\", \"million\", \"million\", \"million\", \"million\", \"million\", \"million\", \"mixtur\", \"mixtur\", \"mixtur\", \"mixtur\", \"mixtur\", \"mixtur\", \"model\", \"model\", \"model\", \"model\", \"model\", \"modul\", \"modul\", \"modul\", \"modul\", \"modul\", \"modul\", \"molecul\", \"molecul\", \"molecul\", \"molecul\", \"molecul\", \"molecular\", \"molecular\", \"molecular\", \"molecular\", \"molecular\", \"molecular\", \"mortal\", \"mortal\", \"mortal\", \"mortal\", \"mortal\", \"mortal\", \"mutat\", \"mutat\", \"mutat\", \"mutat\", \"mutat\", \"mutat\", \"mutat\", \"nation\", \"nation\", \"nation\", \"nation\", \"nation\", \"nation\", \"nation\", \"neutral\", \"neutral\", \"neutral\", \"neutral\", \"neutral\", \"neutral\", \"neutral\", \"nucleotid\", \"nucleotid\", \"nucleotid\", \"nucleotid\", \"onset\", \"onset\", \"onset\", \"onset\", \"onset\", \"oper\", \"oper\", \"oper\", \"oper\", \"oper\", \"oper\", \"organ\", \"organ\", \"organ\", \"organ\", \"organ\", \"organ\", \"organ\", \"organ\", \"outbreak\", \"outbreak\", \"outbreak\", \"outbreak\", \"pair\", \"pair\", \"pair\", \"pair\", \"pair\", \"paper\", \"paper\", \"paper\", \"paper\", \"paper\", \"paper\", \"pathogen\", \"pathogen\", \"pathogen\", \"pathogen\", \"pathogen\", \"pathogen\", \"pathogen\", \"pathogen\", \"patholog\", \"patholog\", \"patholog\", \"patholog\", \"patholog\", \"patholog\", \"pattern\", \"pattern\", \"pattern\", \"pattern\", \"pattern\", \"pattern\", \"pattern\", \"peak\", \"peak\", \"peak\", \"peak\", \"peak\", \"peak\", \"peopl\", \"peopl\", \"peopl\", \"peopl\", \"peopl\", \"peopl\", \"period\", \"period\", \"period\", \"period\", \"period\", \"period\", \"person\", \"person\", \"person\", \"person\", \"person\", \"person\", \"play\", \"play\", \"play\", \"play\", \"play\", \"play\", \"play\", \"pneumonia\", \"pneumonia\", \"point\", \"point\", \"point\", \"point\", \"point\", \"point\", \"point\", \"point\", \"polymera\", \"polymera\", \"polymera\", \"polymera\", \"polymera\", \"popul\", \"popul\", \"popul\", \"popul\", \"popul\", \"popul\", \"popul\", \"potenti\", \"potenti\", \"potenti\", \"potenti\", \"potenti\", \"potenti\", \"potenti\", \"potenti\", \"practic\", \"practic\", \"practic\", \"practic\", \"practic\", \"practic\", \"predict\", \"predict\", \"predict\", \"predict\", \"predict\", \"prepar\", \"prepar\", \"prepar\", \"prepar\", \"prepar\", \"prepar\", \"pressur\", \"pressur\", \"pressur\", \"pressur\", \"pressur\", \"prevent\", \"prevent\", \"prevent\", \"prevent\", \"prevent\", \"prevent\", \"prevent\", \"prevent\", \"primer\", \"primer\", \"primer\", \"process\", \"process\", \"process\", \"process\", \"process\", \"process\", \"program\", \"program\", \"program\", \"program\", \"program\", \"program\", \"program\", \"program\", \"progress\", \"progress\", \"progress\", \"progress\", \"progress\", \"progress\", \"progress\", \"promot\", \"promot\", \"promot\", \"promot\", \"promot\", \"promot\", \"proport\", \"proport\", \"proport\", \"proport\", \"proport\", \"proport\", \"proport\", \"proport\", \"protect\", \"protect\", \"protect\", \"protect\", \"protect\", \"protect\", \"protect\", \"protein\", \"protein\", \"protein\", \"protein\", \"protein\", \"protocol\", \"protocol\", \"protocol\", \"protocol\", \"protocol\", \"protocol\", \"protocol\", \"provid\", \"provid\", \"provid\", \"provid\", \"provid\", \"provid\", \"provid\", \"provid\", \"public\", \"public\", \"public\", \"public\", \"public\", \"public\", \"public\", \"purifi\", \"purifi\", \"purifi\", \"purifi\", \"quantifi\", \"quantifi\", \"quantifi\", \"quantifi\", \"quantifi\", \"quantit\", \"quantit\", \"quantit\", \"quantit\", \"quantit\", \"quantit\", \"quantit\", \"random\", \"random\", \"random\", \"random\", \"random\", \"random\", \"random\", \"rang\", \"rang\", \"rang\", \"rang\", \"rang\", \"rang\", \"rang\", \"rang\", \"rare\", \"rare\", \"rare\", \"rare\", \"rare\", \"rare\", \"rate\", \"rate\", \"rate\", \"rate\", \"rate\", \"rate\", \"rate\", \"ratio\", \"ratio\", \"ratio\", \"ratio\", \"ratio\", \"ratio\", \"ratio\", \"receiv\", \"receiv\", \"receiv\", \"receiv\", \"receiv\", \"receiv\", \"receptor\", \"receptor\", \"receptor\", \"receptor\", \"recogn\", \"recogn\", \"recogn\", \"recogn\", \"recogn\", \"recogn\", \"recogn\", \"recogn\", \"recombin\", \"recombin\", \"recombin\", \"recombin\", \"relationship\", \"relationship\", \"relationship\", \"relationship\", \"relationship\", \"relationship\", \"relationship\", \"relea\", \"relea\", \"relea\", \"relea\", \"relea\", \"relea\", \"remov\", \"remov\", \"remov\", \"remov\", \"remov\", \"remov\", \"repr\", \"repr\", \"repr\", \"repr\", \"repr\", \"repr\", \"repr\", \"repr\", \"resist\", \"resist\", \"resist\", \"resist\", \"resist\", \"resist\", \"resist\", \"resourc\", \"resourc\", \"resourc\", \"resourc\", \"resourc\", \"resourc\", \"resourc\", \"resourc\", \"respiratori\", \"respiratori\", \"respiratori\", \"respiratori\", \"respiratori\", \"respiratori\", \"respiratori\", \"respiratori\", \"respond\", \"respond\", \"respond\", \"respond\", \"respond\", \"risk\", \"risk\", \"risk\", \"risk\", \"risk\", \"role\", \"role\", \"role\", \"role\", \"role\", \"role\", \"role\", \"room\", \"room\", \"room\", \"room\", \"room\", \"rout\", \"rout\", \"rout\", \"rout\", \"rout\", \"rout\", \"rout\", \"scale\", \"scale\", \"scale\", \"scale\", \"scale\", \"scale\", \"scale\", \"seen\", \"seen\", \"seen\", \"seen\", \"seen\", \"seen\", \"seen\", \"seen\", \"sequenc\", \"sequenc\", \"sequenc\", \"sequenc\", \"sequenc\", \"serum\", \"serum\", \"serum\", \"serum\", \"share\", \"share\", \"share\", \"share\", \"share\", \"share\", \"share\", \"sign\", \"sign\", \"sign\", \"sign\", \"sign\", \"sign\", \"signal\", \"signal\", \"signal\", \"signal\", \"signal\", \"significantli\", \"significantli\", \"significantli\", \"significantli\", \"significantli\", \"significantli\", \"significantli\", \"smaller\", \"smaller\", \"smaller\", \"smaller\", \"smaller\", \"smaller\", \"smaller\", \"softwar\", \"softwar\", \"softwar\", \"softwar\", \"softwar\", \"solut\", \"solut\", \"solut\", \"solut\", \"solut\", \"spread\", \"spread\", \"spread\", \"spread\", \"spread\", \"spread\", \"stain\", \"stain\", \"stain\", \"stain\", \"standard\", \"standard\", \"standard\", \"standard\", \"standard\", \"standard\", \"standard\", \"state\", \"state\", \"state\", \"state\", \"state\", \"state\", \"state\", \"state\", \"statist\", \"statist\", \"statist\", \"statist\", \"statist\", \"statist\", \"stimul\", \"stimul\", \"stimul\", \"stimul\", \"stimul\", \"store\", \"store\", \"store\", \"store\", \"store\", \"store\", \"store\", \"strain\", \"strain\", \"strain\", \"strain\", \"strain\", \"strain\", \"strain\", \"strategi\", \"strategi\", \"strategi\", \"strategi\", \"strategi\", \"strategi\", \"strategi\", \"strategi\", \"strong\", \"strong\", \"strong\", \"strong\", \"strong\", \"strong\", \"strong\", \"structur\", \"structur\", \"structur\", \"structur\", \"structur\", \"structur\", \"success\", \"success\", \"success\", \"success\", \"success\", \"success\", \"success\", \"supernat\", \"supernat\", \"supernat\", \"supernat\", \"supplement\", \"supplement\", \"supplement\", \"supplement\", \"supplement\", \"supplement\", \"supplement\", \"supplement\", \"surveil\", \"surveil\", \"surveil\", \"surveil\", \"surviv\", \"surviv\", \"surviv\", \"surviv\", \"surviv\", \"surviv\", \"suspect\", \"suspect\", \"suspect\", \"suspect\", \"suspect\", \"symptom\", \"symptom\", \"symptom\", \"symptom\", \"symptom\", \"target\", \"target\", \"target\", \"target\", \"target\", \"target\", \"target\", \"temperatur\", \"temperatur\", \"temperatur\", \"temperatur\", \"temperatur\", \"term\", \"term\", \"term\", \"term\", \"term\", \"term\", \"term\", \"term\", \"termin\", \"termin\", \"termin\", \"termin\", \"termin\", \"termin\", \"therapi\", \"therapi\", \"therapi\", \"therapi\", \"therapi\", \"therefor\", \"therefor\", \"therefor\", \"therefor\", \"therefor\", \"therefor\", \"therefor\", \"therefor\", \"tissu\", \"tissu\", \"tissu\", \"tissu\", \"tissu\", \"tract\", \"tract\", \"tract\", \"tract\", \"tract\", \"transcript\", \"transcript\", \"transcript\", \"transcript\", \"transcript\", \"translat\", \"translat\", \"translat\", \"translat\", \"transmiss\", \"transmiss\", \"transmiss\", \"transmiss\", \"transmiss\", \"transmiss\", \"transmiss\", \"transmit\", \"transmit\", \"transmit\", \"transmit\", \"transmit\", \"transmit\", \"transmit\", \"treat\", \"treat\", \"treat\", \"treat\", \"treat\", \"treat\", \"trigger\", \"trigger\", \"trigger\", \"trigger\", \"trigger\", \"trigger\", \"uniqu\", \"uniqu\", \"uniqu\", \"uniqu\", \"uniqu\", \"uniqu\", \"uniqu\", \"uniqu\", \"upper\", \"upper\", \"upper\", \"upper\", \"upper\", \"upper\", \"upper\", \"vaccin\", \"vaccin\", \"vaccin\", \"variat\", \"variat\", \"variat\", \"variat\", \"variat\", \"variat\", \"variat\", \"vector\", \"vector\", \"vector\", \"vector\", \"vector\", \"vector\", \"viral\", \"viral\", \"viral\", \"viral\", \"viral\", \"viral\", \"viru\", \"viru\", \"viru\", \"viru\", \"viru\", \"vitro\", \"vitro\", \"vitro\", \"vitro\", \"vitro\", \"vitro\", \"vivo\", \"vivo\", \"vivo\", \"vivo\", \"vivo\", \"volum\", \"volum\", \"volum\", \"volum\", \"volum\", \"wash\", \"wash\", \"wash\", \"wash\", \"wash\", \"without\", \"without\", \"without\", \"without\", \"without\", \"without\", \"without\", \"without\", \"work\", \"work\", \"work\", \"work\", \"work\", \"work\", \"work\", \"work\", \"world\", \"world\", \"world\", \"world\", \"world\", \"world\", \"world\", \"worldwid\", \"worldwid\", \"worldwid\", \"worldwid\", \"worldwid\", \"worldwid\", \"worldwid\", \"worldwid\", \"would\", \"would\", \"would\", \"would\", \"would\", \"would\", \"would\", \"would\", \"yield\", \"yield\", \"yield\", \"yield\", \"yield\", \"yield\", \"yield\", \"yield\", \"young\", \"young\", \"young\", \"young\", \"young\", \"young\"]}, \"R\": 30, \"lambda.step\": 0.01, \"plot.opts\": {\"xlab\": \"PC1\", \"ylab\": \"PC2\"}, \"topic.order\": [1, 8, 7, 6, 5, 3, 4, 2]};\n",
              "\n",
              "function LDAvis_load_lib(url, callback){\n",
              "  var s = document.createElement('script');\n",
              "  s.src = url;\n",
              "  s.async = true;\n",
              "  s.onreadystatechange = s.onload = callback;\n",
              "  s.onerror = function(){console.warn(\"failed to load library \" + url);};\n",
              "  document.getElementsByTagName(\"head\")[0].appendChild(s);\n",
              "}\n",
              "\n",
              "if(typeof(LDAvis) !== \"undefined\"){\n",
              "   // already loaded: just create the visualization\n",
              "   !function(LDAvis){\n",
              "       new LDAvis(\"#\" + \"ldavis_el1231398958532915841320414479\", ldavis_el1231398958532915841320414479_data);\n",
              "   }(LDAvis);\n",
              "}else if(typeof define === \"function\" && define.amd){\n",
              "   // require.js is available: use it to load d3/LDAvis\n",
              "   require.config({paths: {d3: \"https://cdnjs.cloudflare.com/ajax/libs/d3/3.5.5/d3.min\"}});\n",
              "   require([\"d3\"], function(d3){\n",
              "      window.d3 = d3;\n",
              "      LDAvis_load_lib(\"https://cdn.rawgit.com/bmabey/pyLDAvis/files/ldavis.v1.0.0.js\", function(){\n",
              "        new LDAvis(\"#\" + \"ldavis_el1231398958532915841320414479\", ldavis_el1231398958532915841320414479_data);\n",
              "      });\n",
              "    });\n",
              "}else{\n",
              "    // require.js not available: dynamically load d3 & LDAvis\n",
              "    LDAvis_load_lib(\"https://cdnjs.cloudflare.com/ajax/libs/d3/3.5.5/d3.min.js\", function(){\n",
              "         LDAvis_load_lib(\"https://cdn.rawgit.com/bmabey/pyLDAvis/files/ldavis.v1.0.0.js\", function(){\n",
              "                 new LDAvis(\"#\" + \"ldavis_el1231398958532915841320414479\", ldavis_el1231398958532915841320414479_data);\n",
              "            })\n",
              "         });\n",
              "}\n",
              "</script>"
            ],
            "text/plain": [
              "PreparedData(topic_coordinates=              x         y  topics  cluster       Freq\n",
              "topic                                                \n",
              "0      0.178594 -0.027772       1        1  18.708355\n",
              "7     -0.084882  0.037888       2        1  14.816417\n",
              "6     -0.147900  0.002199       3        1  14.677432\n",
              "5      0.083505 -0.099028       4        1  12.925103\n",
              "4     -0.122822 -0.074902       5        1  11.471051\n",
              "2     -0.000374 -0.150512       6        1  10.881446\n",
              "3     -0.088672  0.182376       7        1  10.526764\n",
              "1      0.182550  0.129752       8        1   5.993430, topic_info=          Term           Freq          Total Category  logprob  loglift\n",
              "73        cell  693898.000000  693898.000000  Default  30.0000  30.0000\n",
              "564       viru  560786.000000  560786.000000  Default  29.0000  29.0000\n",
              "555     vaccin  185379.000000  185379.000000  Default  28.0000  28.0000\n",
              "464    sequenc  198888.000000  198888.000000  Default  27.0000  27.0000\n",
              "247      immun  161653.000000  161653.000000  Default  26.0000  26.0000\n",
              "..         ...            ...            ...      ...      ...      ...\n",
              "532      tissu    6698.489746   88538.968750   Topic8  -5.4351   0.2329\n",
              "563      viral    9093.939453  267621.437500   Topic8  -5.1294  -0.5675\n",
              "406     provid    7189.874512  117732.843750   Topic8  -5.3643   0.0188\n",
              "325      model    7250.450684  159605.312500   Topic8  -5.3559  -0.2771\n",
              "593  influenza    6598.773926  130515.539062   Topic8  -5.4501  -0.1701\n",
              "\n",
              "[393 rows x 6 columns], token_table=      Topic      Freq    Term\n",
              "term                         \n",
              "4         1  0.016542  accord\n",
              "4         2  0.042621  accord\n",
              "4         3  0.115388  accord\n",
              "4         4  0.103653  accord\n",
              "4         5  0.172742  accord\n",
              "...     ...       ...     ...\n",
              "581       3  0.049613   young\n",
              "581       4  0.007882   young\n",
              "581       5  0.008260   young\n",
              "581       7  0.323321   young\n",
              "581       8  0.073043   young\n",
              "\n",
              "[1766 rows x 3 columns], R=30, lambda_step=0.01, plot_opts={'xlab': 'PC1', 'ylab': 'PC2'}, topic_order=[1, 8, 7, 6, 5, 3, 4, 2])"
            ]
          },
          "metadata": {
            "tags": []
          },
          "execution_count": 33
        }
      ]
    },
    {
      "cell_type": "markdown",
      "metadata": {
        "id": "A0uXtlrKn3kj",
        "colab_type": "text"
      },
      "source": [
        " * Metric to Coherence: Cv. [Röder M and Both A and Hinneburg A., 2015]\n",
        "\n",
        "\n",
        "\n",
        "*   Model have 55.25% coherence score.\n",
        "\n"
      ]
    },
    {
      "cell_type": "code",
      "metadata": {
        "id": "QOgoSLwkWnFG",
        "colab_type": "code",
        "outputId": "2b16d781-2ab4-4cb3-bf5b-a9f8c7659d9d",
        "colab": {
          "base_uri": "https://localhost:8080/",
          "height": 54
        }
      },
      "source": [
        "coherencemodel = CoherenceModel(model=ldamodel, texts=words, dictionary=dictionaryDocs, coherence='c_v')\n",
        "print('\\nCoherence Score: ', coherencemodel.get_coherence())"
      ],
      "execution_count": 0,
      "outputs": [
        {
          "output_type": "stream",
          "text": [
            "\n",
            "Coherence Score:  0.571411587762478\n"
          ],
          "name": "stdout"
        }
      ]
    },
    {
      "cell_type": "markdown",
      "metadata": {
        "id": "aL7pDo-jpwTd",
        "colab_type": "text"
      },
      "source": [
        "* What topics are predominant (5-hot-topics)?\n",
        " \n",
        "\n",
        "\n"
      ]
    },
    {
      "cell_type": "code",
      "metadata": {
        "id": "qFNzVGr4Fnrp",
        "colab_type": "code",
        "colab": {}
      },
      "source": [
        "topics = ldamodel.show_topics(num_topics=11,num_words=10, formatted=False)"
      ],
      "execution_count": 0,
      "outputs": []
    },
    {
      "cell_type": "code",
      "metadata": {
        "id": "eql4Y_oPGFVC",
        "colab_type": "code",
        "colab": {}
      },
      "source": [
        "doctop=[]\n",
        "for i in range(len(doc_term_matrix)):\n",
        "   doctop.append(ldamodel.get_document_topics(doc_term_matrix[i],minimum_probability=.5))"
      ],
      "execution_count": 0,
      "outputs": []
    },
    {
      "cell_type": "code",
      "metadata": {
        "id": "Wt9GqlQKGIT7",
        "colab_type": "code",
        "colab": {}
      },
      "source": [
        "tp={}\n",
        "for i in range(len(doctop)):\n",
        "  for j in range(len(doctop[i])): \n",
        "      try:\n",
        "        tp[doctop[i][j][0]]+=1\n",
        "      except:\n",
        "         tp[doctop[i][j][0]]=1\n",
        "soma=0\n",
        "for k in tp:\n",
        "   soma+=tp[k]"
      ],
      "execution_count": 0,
      "outputs": []
    },
    {
      "cell_type": "code",
      "metadata": {
        "id": "2eerjPu34I1k",
        "colab_type": "code",
        "outputId": "7d939632-ec59-443f-e941-1de13b86c59d",
        "colab": {
          "base_uri": "https://localhost:8080/",
          "height": 35
        }
      },
      "source": [
        "tp"
      ],
      "execution_count": 0,
      "outputs": [
        {
          "output_type": "execute_result",
          "data": {
            "text/plain": [
              "{0: 3565, 1: 551, 2: 1144, 3: 2025, 4: 1800, 5: 2404, 6: 3615, 7: 1969}"
            ]
          },
          "metadata": {
            "tags": []
          },
          "execution_count": 39
        }
      ]
    },
    {
      "cell_type": "markdown",
      "metadata": {
        "id": "T6IaMBCB79Sv",
        "colab_type": "text"
      },
      "source": [
        "* Hot-topics about COVID-19:\n",
        "1.   Topic 6\n",
        "2.   Topic 0\n",
        "3.   Topic 5\n",
        "4.   Topic 3\n",
        "5.   Topic 7"
      ]
    },
    {
      "cell_type": "markdown",
      "metadata": {
        "id": "et_8zY0mtJ9z",
        "colab_type": "text"
      },
      "source": [
        "Topic **6** ( **Risk Public Health** ) | Topic 0 ( Viral expression ) |Topic 5 ( Viral Genomes ) | Topic: 3 ( Respiratory viruses ) | Topic: 7 ( Respiratory failure ) |\n",
        "--- | ---| ---| ----| ---|\n",
        "\"health\" |\"cell\" | \"sequence\"| \"virus\" | \"blood\"\n",
        " \"public\" |\"protein\" | \"gene\"| \"influenza\" | \"lung\" \n",
        " \"countries\"|\"express\"| \"protein\" | \"respiratories\" | \"tissue\" \n",
        " \"risk\"|\"virus\" | \"virus\" | \"viral\" | \"viral\" | \"therapies\" \n",
        " \"care\"|\"viral\" | \"genome\" | \"detect\" | \"detect\" | \"organ\" \n",
        " \"provide\"| \"inhibit\" | \"structure\" |  \"pathogen\" | \"acute\" \n",
        " \"Emergency\"| \"bind\" | \"strain\" | \"child\" | \"sign\"  \n",
        " \"hospital\" | \"receptor\" | \"mutation\" | \"human\" | \"chronic\" \n",
        " \"community\" | \"interact\" |\"viral\" | \"transmiss\" | \"diagnosis\"\n",
        " \"outbreak\"| \"induced\"| \"acid\" |\"symptom\" | \"bacterial\"\n",
        " "
      ]
    }
  ]
}